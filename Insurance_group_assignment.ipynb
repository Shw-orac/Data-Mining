{
 "cells": [
  {
   "cell_type": "markdown",
   "metadata": {},
   "source": [
    "# import libraries"
   ]
  },
  {
   "cell_type": "code",
   "execution_count": 159,
   "metadata": {},
   "outputs": [],
   "source": [
    "import pandas as pd\n",
    "import matplotlib.pyplot as plt\n",
    "import seaborn as sns\n",
    "import numpy as np"
   ]
  },
  {
   "cell_type": "markdown",
   "metadata": {},
   "source": [
    "# read file"
   ]
  },
  {
   "cell_type": "code",
   "execution_count": 101,
   "metadata": {},
   "outputs": [
    {
     "data": {
      "text/html": [
       "<div>\n",
       "<style scoped>\n",
       "    .dataframe tbody tr th:only-of-type {\n",
       "        vertical-align: middle;\n",
       "    }\n",
       "\n",
       "    .dataframe tbody tr th {\n",
       "        vertical-align: top;\n",
       "    }\n",
       "\n",
       "    .dataframe thead th {\n",
       "        text-align: right;\n",
       "    }\n",
       "</style>\n",
       "<table border=\"1\" class=\"dataframe\">\n",
       "  <thead>\n",
       "    <tr style=\"text-align: right;\">\n",
       "      <th></th>\n",
       "      <th>Age</th>\n",
       "      <th>Agency_Code</th>\n",
       "      <th>Type</th>\n",
       "      <th>Claimed</th>\n",
       "      <th>Commision</th>\n",
       "      <th>Channel</th>\n",
       "      <th>Duration</th>\n",
       "      <th>Sales</th>\n",
       "      <th>Product Name</th>\n",
       "      <th>Destination</th>\n",
       "    </tr>\n",
       "  </thead>\n",
       "  <tbody>\n",
       "    <tr>\n",
       "      <th>0</th>\n",
       "      <td>48</td>\n",
       "      <td>C2B</td>\n",
       "      <td>Airlines</td>\n",
       "      <td>No</td>\n",
       "      <td>0.70</td>\n",
       "      <td>Online</td>\n",
       "      <td>7</td>\n",
       "      <td>2.51</td>\n",
       "      <td>Customised Plan</td>\n",
       "      <td>ASIA</td>\n",
       "    </tr>\n",
       "    <tr>\n",
       "      <th>1</th>\n",
       "      <td>36</td>\n",
       "      <td>EPX</td>\n",
       "      <td>Travel Agency</td>\n",
       "      <td>No</td>\n",
       "      <td>0.00</td>\n",
       "      <td>Online</td>\n",
       "      <td>34</td>\n",
       "      <td>20.00</td>\n",
       "      <td>Customised Plan</td>\n",
       "      <td>ASIA</td>\n",
       "    </tr>\n",
       "    <tr>\n",
       "      <th>2</th>\n",
       "      <td>39</td>\n",
       "      <td>CWT</td>\n",
       "      <td>Travel Agency</td>\n",
       "      <td>No</td>\n",
       "      <td>5.94</td>\n",
       "      <td>Online</td>\n",
       "      <td>3</td>\n",
       "      <td>9.90</td>\n",
       "      <td>Customised Plan</td>\n",
       "      <td>Americas</td>\n",
       "    </tr>\n",
       "    <tr>\n",
       "      <th>3</th>\n",
       "      <td>36</td>\n",
       "      <td>EPX</td>\n",
       "      <td>Travel Agency</td>\n",
       "      <td>No</td>\n",
       "      <td>0.00</td>\n",
       "      <td>Online</td>\n",
       "      <td>4</td>\n",
       "      <td>26.00</td>\n",
       "      <td>Cancellation Plan</td>\n",
       "      <td>ASIA</td>\n",
       "    </tr>\n",
       "    <tr>\n",
       "      <th>4</th>\n",
       "      <td>33</td>\n",
       "      <td>JZI</td>\n",
       "      <td>Airlines</td>\n",
       "      <td>No</td>\n",
       "      <td>6.30</td>\n",
       "      <td>Online</td>\n",
       "      <td>53</td>\n",
       "      <td>18.00</td>\n",
       "      <td>Bronze Plan</td>\n",
       "      <td>ASIA</td>\n",
       "    </tr>\n",
       "  </tbody>\n",
       "</table>\n",
       "</div>"
      ],
      "text/plain": [
       "   Age Agency_Code           Type Claimed  Commision Channel  Duration  Sales  \\\n",
       "0   48         C2B       Airlines      No       0.70  Online         7   2.51   \n",
       "1   36         EPX  Travel Agency      No       0.00  Online        34  20.00   \n",
       "2   39         CWT  Travel Agency      No       5.94  Online         3   9.90   \n",
       "3   36         EPX  Travel Agency      No       0.00  Online         4  26.00   \n",
       "4   33         JZI       Airlines      No       6.30  Online        53  18.00   \n",
       "\n",
       "        Product Name Destination  \n",
       "0    Customised Plan        ASIA  \n",
       "1    Customised Plan        ASIA  \n",
       "2    Customised Plan    Americas  \n",
       "3  Cancellation Plan        ASIA  \n",
       "4        Bronze Plan        ASIA  "
      ]
     },
     "execution_count": 101,
     "metadata": {},
     "output_type": "execute_result"
    }
   ],
   "source": [
    "clm=pd.read_csv(\"insurance_part2_data.csv\")\n",
    "clm.head()"
   ]
  },
  {
   "cell_type": "markdown",
   "metadata": {},
   "source": [
    "# datatype check"
   ]
  },
  {
   "cell_type": "code",
   "execution_count": 102,
   "metadata": {},
   "outputs": [
    {
     "name": "stdout",
     "output_type": "stream",
     "text": [
      "<class 'pandas.core.frame.DataFrame'>\n",
      "RangeIndex: 3000 entries, 0 to 2999\n",
      "Data columns (total 10 columns):\n",
      " #   Column        Non-Null Count  Dtype  \n",
      "---  ------        --------------  -----  \n",
      " 0   Age           3000 non-null   int64  \n",
      " 1   Agency_Code   3000 non-null   object \n",
      " 2   Type          3000 non-null   object \n",
      " 3   Claimed       3000 non-null   object \n",
      " 4   Commision     3000 non-null   float64\n",
      " 5   Channel       3000 non-null   object \n",
      " 6   Duration      3000 non-null   int64  \n",
      " 7   Sales         3000 non-null   float64\n",
      " 8   Product Name  3000 non-null   object \n",
      " 9   Destination   3000 non-null   object \n",
      "dtypes: float64(2), int64(2), object(6)\n",
      "memory usage: 234.5+ KB\n"
     ]
    }
   ],
   "source": [
    "clm.info()"
   ]
  },
  {
   "cell_type": "markdown",
   "metadata": {},
   "source": [
    "# null value check"
   ]
  },
  {
   "cell_type": "code",
   "execution_count": 103,
   "metadata": {},
   "outputs": [
    {
     "data": {
      "text/plain": [
       "Age             0\n",
       "Agency_Code     0\n",
       "Type            0\n",
       "Claimed         0\n",
       "Commision       0\n",
       "Channel         0\n",
       "Duration        0\n",
       "Sales           0\n",
       "Product Name    0\n",
       "Destination     0\n",
       "dtype: int64"
      ]
     },
     "execution_count": 103,
     "metadata": {},
     "output_type": "execute_result"
    }
   ],
   "source": [
    "clm.isnull().sum()"
   ]
  },
  {
   "cell_type": "markdown",
   "metadata": {},
   "source": [
    "# duplicate check"
   ]
  },
  {
   "cell_type": "code",
   "execution_count": 104,
   "metadata": {},
   "outputs": [
    {
     "name": "stdout",
     "output_type": "stream",
     "text": [
      "Number of duplicate rows = 139\n"
     ]
    },
    {
     "data": {
      "text/html": [
       "<div>\n",
       "<style scoped>\n",
       "    .dataframe tbody tr th:only-of-type {\n",
       "        vertical-align: middle;\n",
       "    }\n",
       "\n",
       "    .dataframe tbody tr th {\n",
       "        vertical-align: top;\n",
       "    }\n",
       "\n",
       "    .dataframe thead th {\n",
       "        text-align: right;\n",
       "    }\n",
       "</style>\n",
       "<table border=\"1\" class=\"dataframe\">\n",
       "  <thead>\n",
       "    <tr style=\"text-align: right;\">\n",
       "      <th></th>\n",
       "      <th>Age</th>\n",
       "      <th>Agency_Code</th>\n",
       "      <th>Type</th>\n",
       "      <th>Claimed</th>\n",
       "      <th>Commision</th>\n",
       "      <th>Channel</th>\n",
       "      <th>Duration</th>\n",
       "      <th>Sales</th>\n",
       "      <th>Product Name</th>\n",
       "      <th>Destination</th>\n",
       "    </tr>\n",
       "  </thead>\n",
       "  <tbody>\n",
       "    <tr>\n",
       "      <th>63</th>\n",
       "      <td>30</td>\n",
       "      <td>C2B</td>\n",
       "      <td>Airlines</td>\n",
       "      <td>Yes</td>\n",
       "      <td>15.0</td>\n",
       "      <td>Online</td>\n",
       "      <td>27</td>\n",
       "      <td>60.0</td>\n",
       "      <td>Bronze Plan</td>\n",
       "      <td>ASIA</td>\n",
       "    </tr>\n",
       "    <tr>\n",
       "      <th>329</th>\n",
       "      <td>36</td>\n",
       "      <td>EPX</td>\n",
       "      <td>Travel Agency</td>\n",
       "      <td>No</td>\n",
       "      <td>0.0</td>\n",
       "      <td>Online</td>\n",
       "      <td>5</td>\n",
       "      <td>20.0</td>\n",
       "      <td>Customised Plan</td>\n",
       "      <td>ASIA</td>\n",
       "    </tr>\n",
       "    <tr>\n",
       "      <th>407</th>\n",
       "      <td>36</td>\n",
       "      <td>EPX</td>\n",
       "      <td>Travel Agency</td>\n",
       "      <td>No</td>\n",
       "      <td>0.0</td>\n",
       "      <td>Online</td>\n",
       "      <td>11</td>\n",
       "      <td>19.0</td>\n",
       "      <td>Cancellation Plan</td>\n",
       "      <td>ASIA</td>\n",
       "    </tr>\n",
       "    <tr>\n",
       "      <th>411</th>\n",
       "      <td>35</td>\n",
       "      <td>EPX</td>\n",
       "      <td>Travel Agency</td>\n",
       "      <td>No</td>\n",
       "      <td>0.0</td>\n",
       "      <td>Online</td>\n",
       "      <td>2</td>\n",
       "      <td>20.0</td>\n",
       "      <td>Customised Plan</td>\n",
       "      <td>ASIA</td>\n",
       "    </tr>\n",
       "    <tr>\n",
       "      <th>422</th>\n",
       "      <td>36</td>\n",
       "      <td>EPX</td>\n",
       "      <td>Travel Agency</td>\n",
       "      <td>No</td>\n",
       "      <td>0.0</td>\n",
       "      <td>Online</td>\n",
       "      <td>5</td>\n",
       "      <td>20.0</td>\n",
       "      <td>Customised Plan</td>\n",
       "      <td>ASIA</td>\n",
       "    </tr>\n",
       "    <tr>\n",
       "      <th>...</th>\n",
       "      <td>...</td>\n",
       "      <td>...</td>\n",
       "      <td>...</td>\n",
       "      <td>...</td>\n",
       "      <td>...</td>\n",
       "      <td>...</td>\n",
       "      <td>...</td>\n",
       "      <td>...</td>\n",
       "      <td>...</td>\n",
       "      <td>...</td>\n",
       "    </tr>\n",
       "    <tr>\n",
       "      <th>2940</th>\n",
       "      <td>36</td>\n",
       "      <td>EPX</td>\n",
       "      <td>Travel Agency</td>\n",
       "      <td>No</td>\n",
       "      <td>0.0</td>\n",
       "      <td>Online</td>\n",
       "      <td>8</td>\n",
       "      <td>10.0</td>\n",
       "      <td>Cancellation Plan</td>\n",
       "      <td>ASIA</td>\n",
       "    </tr>\n",
       "    <tr>\n",
       "      <th>2947</th>\n",
       "      <td>36</td>\n",
       "      <td>EPX</td>\n",
       "      <td>Travel Agency</td>\n",
       "      <td>No</td>\n",
       "      <td>0.0</td>\n",
       "      <td>Online</td>\n",
       "      <td>10</td>\n",
       "      <td>28.0</td>\n",
       "      <td>Customised Plan</td>\n",
       "      <td>ASIA</td>\n",
       "    </tr>\n",
       "    <tr>\n",
       "      <th>2952</th>\n",
       "      <td>36</td>\n",
       "      <td>EPX</td>\n",
       "      <td>Travel Agency</td>\n",
       "      <td>No</td>\n",
       "      <td>0.0</td>\n",
       "      <td>Online</td>\n",
       "      <td>2</td>\n",
       "      <td>10.0</td>\n",
       "      <td>Cancellation Plan</td>\n",
       "      <td>ASIA</td>\n",
       "    </tr>\n",
       "    <tr>\n",
       "      <th>2962</th>\n",
       "      <td>36</td>\n",
       "      <td>EPX</td>\n",
       "      <td>Travel Agency</td>\n",
       "      <td>No</td>\n",
       "      <td>0.0</td>\n",
       "      <td>Online</td>\n",
       "      <td>4</td>\n",
       "      <td>20.0</td>\n",
       "      <td>Customised Plan</td>\n",
       "      <td>ASIA</td>\n",
       "    </tr>\n",
       "    <tr>\n",
       "      <th>2984</th>\n",
       "      <td>36</td>\n",
       "      <td>EPX</td>\n",
       "      <td>Travel Agency</td>\n",
       "      <td>No</td>\n",
       "      <td>0.0</td>\n",
       "      <td>Online</td>\n",
       "      <td>1</td>\n",
       "      <td>20.0</td>\n",
       "      <td>Customised Plan</td>\n",
       "      <td>ASIA</td>\n",
       "    </tr>\n",
       "  </tbody>\n",
       "</table>\n",
       "<p>139 rows × 10 columns</p>\n",
       "</div>"
      ],
      "text/plain": [
       "      Age Agency_Code           Type Claimed  Commision Channel  Duration  \\\n",
       "63     30         C2B       Airlines     Yes       15.0  Online        27   \n",
       "329    36         EPX  Travel Agency      No        0.0  Online         5   \n",
       "407    36         EPX  Travel Agency      No        0.0  Online        11   \n",
       "411    35         EPX  Travel Agency      No        0.0  Online         2   \n",
       "422    36         EPX  Travel Agency      No        0.0  Online         5   \n",
       "...   ...         ...            ...     ...        ...     ...       ...   \n",
       "2940   36         EPX  Travel Agency      No        0.0  Online         8   \n",
       "2947   36         EPX  Travel Agency      No        0.0  Online        10   \n",
       "2952   36         EPX  Travel Agency      No        0.0  Online         2   \n",
       "2962   36         EPX  Travel Agency      No        0.0  Online         4   \n",
       "2984   36         EPX  Travel Agency      No        0.0  Online         1   \n",
       "\n",
       "      Sales       Product Name Destination  \n",
       "63     60.0        Bronze Plan        ASIA  \n",
       "329    20.0    Customised Plan        ASIA  \n",
       "407    19.0  Cancellation Plan        ASIA  \n",
       "411    20.0    Customised Plan        ASIA  \n",
       "422    20.0    Customised Plan        ASIA  \n",
       "...     ...                ...         ...  \n",
       "2940   10.0  Cancellation Plan        ASIA  \n",
       "2947   28.0    Customised Plan        ASIA  \n",
       "2952   10.0  Cancellation Plan        ASIA  \n",
       "2962   20.0    Customised Plan        ASIA  \n",
       "2984   20.0    Customised Plan        ASIA  \n",
       "\n",
       "[139 rows x 10 columns]"
      ]
     },
     "execution_count": 104,
     "metadata": {},
     "output_type": "execute_result"
    }
   ],
   "source": [
    "duplicate=clm.duplicated()\n",
    "print('Number of duplicate rows = %d' % (duplicate.sum()))\n",
    "clm[duplicate]"
   ]
  },
  {
   "cell_type": "markdown",
   "metadata": {},
   "source": [
    "# outlier check"
   ]
  },
  {
   "cell_type": "code",
   "execution_count": 105,
   "metadata": {},
   "outputs": [
    {
     "data": {
      "image/png": "[encoded data removed]",
      "text/plain": [
       "<Figure size 720x720 with 1 Axes>"
      ]
     },
     "metadata": {
      "needs_background": "light"
     },
     "output_type": "display_data"
    }
   ],
   "source": [
    "fig,ax=plt.subplots(figsize=(10,10))\n",
    "clm.boxplot(ax=ax,rot=45)\n",
    "plt.show()"
   ]
  },
  {
   "cell_type": "markdown",
   "metadata": {},
   "source": [
    "# descriptive stats"
   ]
  },
  {
   "cell_type": "code",
   "execution_count": 106,
   "metadata": {},
   "outputs": [
    {
     "data": {
      "text/html": [
       "<div>\n",
       "<style scoped>\n",
       "    .dataframe tbody tr th:only-of-type {\n",
       "        vertical-align: middle;\n",
       "    }\n",
       "\n",
       "    .dataframe tbody tr th {\n",
       "        vertical-align: top;\n",
       "    }\n",
       "\n",
       "    .dataframe thead th {\n",
       "        text-align: right;\n",
       "    }\n",
       "</style>\n",
       "<table border=\"1\" class=\"dataframe\">\n",
       "  <thead>\n",
       "    <tr style=\"text-align: right;\">\n",
       "      <th></th>\n",
       "      <th>Age</th>\n",
       "      <th>Commision</th>\n",
       "      <th>Duration</th>\n",
       "      <th>Sales</th>\n",
       "    </tr>\n",
       "  </thead>\n",
       "  <tbody>\n",
       "    <tr>\n",
       "      <th>count</th>\n",
       "      <td>3000.000000</td>\n",
       "      <td>3000.000000</td>\n",
       "      <td>3000.000000</td>\n",
       "      <td>3000.000000</td>\n",
       "    </tr>\n",
       "    <tr>\n",
       "      <th>mean</th>\n",
       "      <td>38.091000</td>\n",
       "      <td>14.529203</td>\n",
       "      <td>70.001333</td>\n",
       "      <td>60.249913</td>\n",
       "    </tr>\n",
       "    <tr>\n",
       "      <th>std</th>\n",
       "      <td>10.463518</td>\n",
       "      <td>25.481455</td>\n",
       "      <td>134.053313</td>\n",
       "      <td>70.733954</td>\n",
       "    </tr>\n",
       "    <tr>\n",
       "      <th>min</th>\n",
       "      <td>8.000000</td>\n",
       "      <td>0.000000</td>\n",
       "      <td>-1.000000</td>\n",
       "      <td>0.000000</td>\n",
       "    </tr>\n",
       "    <tr>\n",
       "      <th>25%</th>\n",
       "      <td>32.000000</td>\n",
       "      <td>0.000000</td>\n",
       "      <td>11.000000</td>\n",
       "      <td>20.000000</td>\n",
       "    </tr>\n",
       "    <tr>\n",
       "      <th>50%</th>\n",
       "      <td>36.000000</td>\n",
       "      <td>4.630000</td>\n",
       "      <td>26.500000</td>\n",
       "      <td>33.000000</td>\n",
       "    </tr>\n",
       "    <tr>\n",
       "      <th>75%</th>\n",
       "      <td>42.000000</td>\n",
       "      <td>17.235000</td>\n",
       "      <td>63.000000</td>\n",
       "      <td>69.000000</td>\n",
       "    </tr>\n",
       "    <tr>\n",
       "      <th>max</th>\n",
       "      <td>84.000000</td>\n",
       "      <td>210.210000</td>\n",
       "      <td>4580.000000</td>\n",
       "      <td>539.000000</td>\n",
       "    </tr>\n",
       "  </tbody>\n",
       "</table>\n",
       "</div>"
      ],
      "text/plain": [
       "               Age    Commision     Duration        Sales\n",
       "count  3000.000000  3000.000000  3000.000000  3000.000000\n",
       "mean     38.091000    14.529203    70.001333    60.249913\n",
       "std      10.463518    25.481455   134.053313    70.733954\n",
       "min       8.000000     0.000000    -1.000000     0.000000\n",
       "25%      32.000000     0.000000    11.000000    20.000000\n",
       "50%      36.000000     4.630000    26.500000    33.000000\n",
       "75%      42.000000    17.235000    63.000000    69.000000\n",
       "max      84.000000   210.210000  4580.000000   539.000000"
      ]
     },
     "execution_count": 106,
     "metadata": {},
     "output_type": "execute_result"
    }
   ],
   "source": [
    "clm.describe()"
   ]
  },
  {
   "cell_type": "code",
   "execution_count": 107,
   "metadata": {},
   "outputs": [
    {
     "data": {
      "text/html": [
       "<div>\n",
       "<style scoped>\n",
       "    .dataframe tbody tr th:only-of-type {\n",
       "        vertical-align: middle;\n",
       "    }\n",
       "\n",
       "    .dataframe tbody tr th {\n",
       "        vertical-align: top;\n",
       "    }\n",
       "\n",
       "    .dataframe thead th {\n",
       "        text-align: right;\n",
       "    }\n",
       "</style>\n",
       "<table border=\"1\" class=\"dataframe\">\n",
       "  <thead>\n",
       "    <tr style=\"text-align: right;\">\n",
       "      <th></th>\n",
       "      <th>Age</th>\n",
       "      <th>Agency_Code</th>\n",
       "      <th>Type</th>\n",
       "      <th>Claimed</th>\n",
       "      <th>Commision</th>\n",
       "      <th>Channel</th>\n",
       "      <th>Duration</th>\n",
       "      <th>Sales</th>\n",
       "      <th>Product Name</th>\n",
       "      <th>Destination</th>\n",
       "    </tr>\n",
       "  </thead>\n",
       "  <tbody>\n",
       "    <tr>\n",
       "      <th>count</th>\n",
       "      <td>3000.000000</td>\n",
       "      <td>3000</td>\n",
       "      <td>3000</td>\n",
       "      <td>3000</td>\n",
       "      <td>3000.000000</td>\n",
       "      <td>3000</td>\n",
       "      <td>3000.000000</td>\n",
       "      <td>3000.000000</td>\n",
       "      <td>3000</td>\n",
       "      <td>3000</td>\n",
       "    </tr>\n",
       "    <tr>\n",
       "      <th>unique</th>\n",
       "      <td>NaN</td>\n",
       "      <td>4</td>\n",
       "      <td>2</td>\n",
       "      <td>2</td>\n",
       "      <td>NaN</td>\n",
       "      <td>2</td>\n",
       "      <td>NaN</td>\n",
       "      <td>NaN</td>\n",
       "      <td>5</td>\n",
       "      <td>3</td>\n",
       "    </tr>\n",
       "    <tr>\n",
       "      <th>top</th>\n",
       "      <td>NaN</td>\n",
       "      <td>EPX</td>\n",
       "      <td>Travel Agency</td>\n",
       "      <td>No</td>\n",
       "      <td>NaN</td>\n",
       "      <td>Online</td>\n",
       "      <td>NaN</td>\n",
       "      <td>NaN</td>\n",
       "      <td>Customised Plan</td>\n",
       "      <td>ASIA</td>\n",
       "    </tr>\n",
       "    <tr>\n",
       "      <th>freq</th>\n",
       "      <td>NaN</td>\n",
       "      <td>1365</td>\n",
       "      <td>1837</td>\n",
       "      <td>2076</td>\n",
       "      <td>NaN</td>\n",
       "      <td>2954</td>\n",
       "      <td>NaN</td>\n",
       "      <td>NaN</td>\n",
       "      <td>1136</td>\n",
       "      <td>2465</td>\n",
       "    </tr>\n",
       "    <tr>\n",
       "      <th>mean</th>\n",
       "      <td>38.091000</td>\n",
       "      <td>NaN</td>\n",
       "      <td>NaN</td>\n",
       "      <td>NaN</td>\n",
       "      <td>14.529203</td>\n",
       "      <td>NaN</td>\n",
       "      <td>70.001333</td>\n",
       "      <td>60.249913</td>\n",
       "      <td>NaN</td>\n",
       "      <td>NaN</td>\n",
       "    </tr>\n",
       "    <tr>\n",
       "      <th>std</th>\n",
       "      <td>10.463518</td>\n",
       "      <td>NaN</td>\n",
       "      <td>NaN</td>\n",
       "      <td>NaN</td>\n",
       "      <td>25.481455</td>\n",
       "      <td>NaN</td>\n",
       "      <td>134.053313</td>\n",
       "      <td>70.733954</td>\n",
       "      <td>NaN</td>\n",
       "      <td>NaN</td>\n",
       "    </tr>\n",
       "    <tr>\n",
       "      <th>min</th>\n",
       "      <td>8.000000</td>\n",
       "      <td>NaN</td>\n",
       "      <td>NaN</td>\n",
       "      <td>NaN</td>\n",
       "      <td>0.000000</td>\n",
       "      <td>NaN</td>\n",
       "      <td>-1.000000</td>\n",
       "      <td>0.000000</td>\n",
       "      <td>NaN</td>\n",
       "      <td>NaN</td>\n",
       "    </tr>\n",
       "    <tr>\n",
       "      <th>25%</th>\n",
       "      <td>32.000000</td>\n",
       "      <td>NaN</td>\n",
       "      <td>NaN</td>\n",
       "      <td>NaN</td>\n",
       "      <td>0.000000</td>\n",
       "      <td>NaN</td>\n",
       "      <td>11.000000</td>\n",
       "      <td>20.000000</td>\n",
       "      <td>NaN</td>\n",
       "      <td>NaN</td>\n",
       "    </tr>\n",
       "    <tr>\n",
       "      <th>50%</th>\n",
       "      <td>36.000000</td>\n",
       "      <td>NaN</td>\n",
       "      <td>NaN</td>\n",
       "      <td>NaN</td>\n",
       "      <td>4.630000</td>\n",
       "      <td>NaN</td>\n",
       "      <td>26.500000</td>\n",
       "      <td>33.000000</td>\n",
       "      <td>NaN</td>\n",
       "      <td>NaN</td>\n",
       "    </tr>\n",
       "    <tr>\n",
       "      <th>75%</th>\n",
       "      <td>42.000000</td>\n",
       "      <td>NaN</td>\n",
       "      <td>NaN</td>\n",
       "      <td>NaN</td>\n",
       "      <td>17.235000</td>\n",
       "      <td>NaN</td>\n",
       "      <td>63.000000</td>\n",
       "      <td>69.000000</td>\n",
       "      <td>NaN</td>\n",
       "      <td>NaN</td>\n",
       "    </tr>\n",
       "    <tr>\n",
       "      <th>max</th>\n",
       "      <td>84.000000</td>\n",
       "      <td>NaN</td>\n",
       "      <td>NaN</td>\n",
       "      <td>NaN</td>\n",
       "      <td>210.210000</td>\n",
       "      <td>NaN</td>\n",
       "      <td>4580.000000</td>\n",
       "      <td>539.000000</td>\n",
       "      <td>NaN</td>\n",
       "      <td>NaN</td>\n",
       "    </tr>\n",
       "  </tbody>\n",
       "</table>\n",
       "</div>"
      ],
      "text/plain": [
       "                Age Agency_Code           Type Claimed    Commision Channel  \\\n",
       "count   3000.000000        3000           3000    3000  3000.000000    3000   \n",
       "unique          NaN           4              2       2          NaN       2   \n",
       "top             NaN         EPX  Travel Agency      No          NaN  Online   \n",
       "freq            NaN        1365           1837    2076          NaN    2954   \n",
       "mean      38.091000         NaN            NaN     NaN    14.529203     NaN   \n",
       "std       10.463518         NaN            NaN     NaN    25.481455     NaN   \n",
       "min        8.000000         NaN            NaN     NaN     0.000000     NaN   \n",
       "25%       32.000000         NaN            NaN     NaN     0.000000     NaN   \n",
       "50%       36.000000         NaN            NaN     NaN     4.630000     NaN   \n",
       "75%       42.000000         NaN            NaN     NaN    17.235000     NaN   \n",
       "max       84.000000         NaN            NaN     NaN   210.210000     NaN   \n",
       "\n",
       "           Duration        Sales     Product Name Destination  \n",
       "count   3000.000000  3000.000000             3000        3000  \n",
       "unique          NaN          NaN                5           3  \n",
       "top             NaN          NaN  Customised Plan        ASIA  \n",
       "freq            NaN          NaN             1136        2465  \n",
       "mean      70.001333    60.249913              NaN         NaN  \n",
       "std      134.053313    70.733954              NaN         NaN  \n",
       "min       -1.000000     0.000000              NaN         NaN  \n",
       "25%       11.000000    20.000000              NaN         NaN  \n",
       "50%       26.500000    33.000000              NaN         NaN  \n",
       "75%       63.000000    69.000000              NaN         NaN  \n",
       "max     4580.000000   539.000000              NaN         NaN  "
      ]
     },
     "execution_count": 107,
     "metadata": {},
     "output_type": "execute_result"
    }
   ],
   "source": [
    "clm.describe(include='all')"
   ]
  },
  {
   "cell_type": "markdown",
   "metadata": {},
   "source": [
    "# value count for categorical data"
   ]
  },
  {
   "cell_type": "code",
   "execution_count": 108,
   "metadata": {},
   "outputs": [
    {
     "name": "stdout",
     "output_type": "stream",
     "text": [
      "AGENCY_CODE :  4\n",
      "JZI     239\n",
      "CWT     472\n",
      "C2B     924\n",
      "EPX    1365\n",
      "Name: Agency_Code, dtype: int64\n",
      "\n",
      "\n",
      "TYPE :  2\n",
      "Airlines         1163\n",
      "Travel Agency    1837\n",
      "Name: Type, dtype: int64\n",
      "\n",
      "\n",
      "CLAIMED :  2\n",
      "Yes     924\n",
      "No     2076\n",
      "Name: Claimed, dtype: int64\n",
      "\n",
      "\n",
      "CHANNEL :  2\n",
      "Offline      46\n",
      "Online     2954\n",
      "Name: Channel, dtype: int64\n",
      "\n",
      "\n",
      "PRODUCT NAME :  5\n",
      "Gold Plan             109\n",
      "Silver Plan           427\n",
      "Bronze Plan           650\n",
      "Cancellation Plan     678\n",
      "Customised Plan      1136\n",
      "Name: Product Name, dtype: int64\n",
      "\n",
      "\n",
      "DESTINATION :  3\n",
      "EUROPE       215\n",
      "Americas     320\n",
      "ASIA        2465\n",
      "Name: Destination, dtype: int64\n",
      "\n",
      "\n"
     ]
    }
   ],
   "source": [
    "for i in clm.columns:\n",
    "    if clm[i].dtype == 'object': \n",
    "        print(i.upper(),': ',clm[i].nunique())\n",
    "        print(clm[i].value_counts().sort_values())\n",
    "        print('\\n')"
   ]
  },
  {
   "cell_type": "markdown",
   "metadata": {},
   "source": [
    "# pairplot"
   ]
  },
  {
   "cell_type": "code",
   "execution_count": 109,
   "metadata": {},
   "outputs": [
    {
     "data": {
      "text/plain": [
       "<seaborn.axisgrid.PairGrid at 0x23d51528e48>"
      ]
     },
     "execution_count": 109,
     "metadata": {},
     "output_type": "execute_result"
    },
    {
     "data": {
      "image/png": "[encoded data removed]",
      "text/plain": [
       "<Figure size 720x720 with 20 Axes>"
      ]
     },
     "metadata": {
      "needs_background": "light"
     },
     "output_type": "display_data"
    }
   ],
   "source": [
    "sns.pairplot(clm)"
   ]
  },
  {
   "cell_type": "markdown",
   "metadata": {},
   "source": [
    "# Target value distribution"
   ]
  },
  {
   "cell_type": "code",
   "execution_count": 110,
   "metadata": {},
   "outputs": [
    {
     "data": {
      "text/plain": [
       "No     0.692\n",
       "Yes    0.308\n",
       "Name: Claimed, dtype: float64"
      ]
     },
     "execution_count": 110,
     "metadata": {},
     "output_type": "execute_result"
    }
   ],
   "source": [
    "clm['Claimed'].value_counts(normalize=True)"
   ]
  },
  {
   "cell_type": "markdown",
   "metadata": {},
   "source": [
    "# change the data type from categorical to int before modelling"
   ]
  },
  {
   "cell_type": "code",
   "execution_count": 111,
   "metadata": {},
   "outputs": [],
   "source": [
    "for i in clm.columns:\n",
    "    if clm[i].dtype == 'object': \n",
    "        clm[i] = pd.Categorical(clm[i]).codes"
   ]
  },
  {
   "cell_type": "code",
   "execution_count": 112,
   "metadata": {},
   "outputs": [
    {
     "data": {
      "text/plain": [
       "Age               int64\n",
       "Agency_Code        int8\n",
       "Type               int8\n",
       "Claimed            int8\n",
       "Commision       float64\n",
       "Channel            int8\n",
       "Duration          int64\n",
       "Sales           float64\n",
       "Product Name       int8\n",
       "Destination        int8\n",
       "dtype: object"
      ]
     },
     "execution_count": 112,
     "metadata": {},
     "output_type": "execute_result"
    }
   ],
   "source": [
    "clm.dtypes"
   ]
  },
  {
   "cell_type": "code",
   "execution_count": 113,
   "metadata": {},
   "outputs": [
    {
     "data": {
      "text/html": [
       "<div>\n",
       "<style scoped>\n",
       "    .dataframe tbody tr th:only-of-type {\n",
       "        vertical-align: middle;\n",
       "    }\n",
       "\n",
       "    .dataframe tbody tr th {\n",
       "        vertical-align: top;\n",
       "    }\n",
       "\n",
       "    .dataframe thead th {\n",
       "        text-align: right;\n",
       "    }\n",
       "</style>\n",
       "<table border=\"1\" class=\"dataframe\">\n",
       "  <thead>\n",
       "    <tr style=\"text-align: right;\">\n",
       "      <th></th>\n",
       "      <th>Age</th>\n",
       "      <th>Agency_Code</th>\n",
       "      <th>Type</th>\n",
       "      <th>Claimed</th>\n",
       "      <th>Commision</th>\n",
       "      <th>Channel</th>\n",
       "      <th>Duration</th>\n",
       "      <th>Sales</th>\n",
       "      <th>Product Name</th>\n",
       "      <th>Destination</th>\n",
       "    </tr>\n",
       "  </thead>\n",
       "  <tbody>\n",
       "    <tr>\n",
       "      <th>0</th>\n",
       "      <td>48</td>\n",
       "      <td>0</td>\n",
       "      <td>0</td>\n",
       "      <td>0</td>\n",
       "      <td>0.70</td>\n",
       "      <td>1</td>\n",
       "      <td>7</td>\n",
       "      <td>2.51</td>\n",
       "      <td>2</td>\n",
       "      <td>0</td>\n",
       "    </tr>\n",
       "    <tr>\n",
       "      <th>1</th>\n",
       "      <td>36</td>\n",
       "      <td>2</td>\n",
       "      <td>1</td>\n",
       "      <td>0</td>\n",
       "      <td>0.00</td>\n",
       "      <td>1</td>\n",
       "      <td>34</td>\n",
       "      <td>20.00</td>\n",
       "      <td>2</td>\n",
       "      <td>0</td>\n",
       "    </tr>\n",
       "    <tr>\n",
       "      <th>2</th>\n",
       "      <td>39</td>\n",
       "      <td>1</td>\n",
       "      <td>1</td>\n",
       "      <td>0</td>\n",
       "      <td>5.94</td>\n",
       "      <td>1</td>\n",
       "      <td>3</td>\n",
       "      <td>9.90</td>\n",
       "      <td>2</td>\n",
       "      <td>1</td>\n",
       "    </tr>\n",
       "    <tr>\n",
       "      <th>3</th>\n",
       "      <td>36</td>\n",
       "      <td>2</td>\n",
       "      <td>1</td>\n",
       "      <td>0</td>\n",
       "      <td>0.00</td>\n",
       "      <td>1</td>\n",
       "      <td>4</td>\n",
       "      <td>26.00</td>\n",
       "      <td>1</td>\n",
       "      <td>0</td>\n",
       "    </tr>\n",
       "    <tr>\n",
       "      <th>4</th>\n",
       "      <td>33</td>\n",
       "      <td>3</td>\n",
       "      <td>0</td>\n",
       "      <td>0</td>\n",
       "      <td>6.30</td>\n",
       "      <td>1</td>\n",
       "      <td>53</td>\n",
       "      <td>18.00</td>\n",
       "      <td>0</td>\n",
       "      <td>0</td>\n",
       "    </tr>\n",
       "  </tbody>\n",
       "</table>\n",
       "</div>"
      ],
      "text/plain": [
       "   Age  Agency_Code  Type  Claimed  Commision  Channel  Duration  Sales  \\\n",
       "0   48            0     0        0       0.70        1         7   2.51   \n",
       "1   36            2     1        0       0.00        1        34  20.00   \n",
       "2   39            1     1        0       5.94        1         3   9.90   \n",
       "3   36            2     1        0       0.00        1         4  26.00   \n",
       "4   33            3     0        0       6.30        1        53  18.00   \n",
       "\n",
       "   Product Name  Destination  \n",
       "0             2            0  \n",
       "1             2            0  \n",
       "2             2            1  \n",
       "3             1            0  \n",
       "4             0            0  "
      ]
     },
     "execution_count": 113,
     "metadata": {},
     "output_type": "execute_result"
    }
   ],
   "source": [
    "clm.head()"
   ]
  },
  {
   "cell_type": "markdown",
   "metadata": {},
   "source": [
    "# Separate the dependent and indepedent variables"
   ]
  },
  {
   "cell_type": "code",
   "execution_count": 114,
   "metadata": {},
   "outputs": [],
   "source": [
    "X=clm.drop('Claimed',axis=1)\n",
    "Y=clm.pop('Claimed')"
   ]
  },
  {
   "cell_type": "markdown",
   "metadata": {},
   "source": [
    "# split the data in train and test"
   ]
  },
  {
   "cell_type": "code",
   "execution_count": 115,
   "metadata": {},
   "outputs": [],
   "source": [
    "from sklearn.model_selection import train_test_split\n",
    "\n",
    "X_train, X_test, Y_train, Y_test = train_test_split(X, Y, test_size=.30, random_state=1)"
   ]
  },
  {
   "cell_type": "markdown",
   "metadata": {},
   "source": [
    "# Decision tree model"
   ]
  },
  {
   "cell_type": "code",
   "execution_count": 116,
   "metadata": {},
   "outputs": [],
   "source": [
    "from sklearn import tree\n",
    "dt_model = tree.DecisionTreeClassifier(criterion = 'gini',random_state=1)"
   ]
  },
  {
   "cell_type": "markdown",
   "metadata": {},
   "source": [
    "# best parameter with gridsearch"
   ]
  },
  {
   "cell_type": "code",
   "execution_count": 117,
   "metadata": {},
   "outputs": [
    {
     "data": {
      "text/plain": [
       "{'max_depth': 7, 'min_samples_leaf': 50, 'min_samples_split': 150}"
      ]
     },
     "execution_count": 117,
     "metadata": {},
     "output_type": "execute_result"
    }
   ],
   "source": [
    "from sklearn.model_selection import GridSearchCV\n",
    "\n",
    "param_grid = {\n",
    "    'max_depth': [7, 10],\n",
    "    'min_samples_leaf': [50, 100],\n",
    "    'min_samples_split': [150, 300]\n",
    "}\n",
    "\n",
    "dt_model = tree.DecisionTreeClassifier(random_state=1)\n",
    "\n",
    "grid_search_dt = GridSearchCV(estimator = dt_model, param_grid = param_grid, cv = 3)\n",
    "grid_search_dt.fit(X_train, Y_train)\n",
    "grid_search_dt.best_params_"
   ]
  },
  {
   "cell_type": "code",
   "execution_count": 118,
   "metadata": {},
   "outputs": [
    {
     "data": {
      "text/plain": [
       "{'max_depth': 7, 'min_samples_leaf': 50, 'min_samples_split': 150}"
      ]
     },
     "execution_count": 118,
     "metadata": {},
     "output_type": "execute_result"
    }
   ],
   "source": [
    "param_grid = {\n",
    "    'max_depth': [7, 8],\n",
    "    'min_samples_leaf': [50, 100],\n",
    "    'min_samples_split': [150, 300]\n",
    "}\n",
    "\n",
    "dt_model = tree.DecisionTreeClassifier(random_state=1)\n",
    "\n",
    "grid_search_dt = GridSearchCV(estimator = dt_model, param_grid = param_grid, cv = 3)\n",
    "grid_search_dt.fit(X_train, Y_train)\n",
    "grid_search_dt.best_params_"
   ]
  },
  {
   "cell_type": "code",
   "execution_count": 119,
   "metadata": {},
   "outputs": [
    {
     "data": {
      "text/plain": [
       "{'max_depth': 7, 'min_samples_leaf': 50, 'min_samples_split': 150}"
      ]
     },
     "execution_count": 119,
     "metadata": {},
     "output_type": "execute_result"
    }
   ],
   "source": [
    "param_grid = {\n",
    "    'max_depth': [7, 8],\n",
    "    'min_samples_leaf': [50, 120],\n",
    "    'min_samples_split': [150, 360]\n",
    "}\n",
    "\n",
    "dt_model = tree.DecisionTreeClassifier(random_state=1)\n",
    "\n",
    "grid_search_dt = GridSearchCV(estimator = dt_model, param_grid = param_grid, cv = 3)\n",
    "grid_search_dt.fit(X_train, Y_train)\n",
    "grid_search_dt.best_params_"
   ]
  },
  {
   "cell_type": "code",
   "execution_count": 120,
   "metadata": {},
   "outputs": [
    {
     "data": {
      "text/plain": [
       "{'max_depth': 7, 'min_samples_leaf': 50, 'min_samples_split': 150}"
      ]
     },
     "execution_count": 120,
     "metadata": {},
     "output_type": "execute_result"
    }
   ],
   "source": [
    "param_grid = {\n",
    "    'max_depth': [7, 8],\n",
    "    'min_samples_leaf': [50, 80],\n",
    "    'min_samples_split': [150, 240]\n",
    "}\n",
    "\n",
    "dt_model = tree.DecisionTreeClassifier(random_state=1)\n",
    "\n",
    "grid_search_dt = GridSearchCV(estimator = dt_model, param_grid = param_grid, cv = 3)\n",
    "grid_search_dt.fit(X_train, Y_train)\n",
    "grid_search_dt.best_params_"
   ]
  },
  {
   "cell_type": "code",
   "execution_count": 121,
   "metadata": {},
   "outputs": [
    {
     "data": {
      "text/plain": [
       "{'max_depth': 7, 'min_samples_leaf': 50, 'min_samples_split': 150}"
      ]
     },
     "execution_count": 121,
     "metadata": {},
     "output_type": "execute_result"
    }
   ],
   "source": [
    "param_grid = {\n",
    "    'max_depth': [7, 8],\n",
    "    'min_samples_leaf': [50, 60],\n",
    "    'min_samples_split': [150, 180]\n",
    "}\n",
    "\n",
    "dt_model = tree.DecisionTreeClassifier(random_state=1)\n",
    "\n",
    "grid_search_dt = GridSearchCV(estimator = dt_model, param_grid = param_grid, cv = 3)\n",
    "grid_search_dt.fit(X_train, Y_train)\n",
    "grid_search_dt.best_params_"
   ]
  },
  {
   "cell_type": "code",
   "execution_count": 122,
   "metadata": {},
   "outputs": [
    {
     "data": {
      "text/plain": [
       "{'max_depth': 6, 'min_samples_leaf': 40, 'min_samples_split': 120}"
      ]
     },
     "execution_count": 122,
     "metadata": {},
     "output_type": "execute_result"
    }
   ],
   "source": [
    "param_grid = {\n",
    "    'max_depth': [6, 7],\n",
    "    'min_samples_leaf': [40, 50],\n",
    "    'min_samples_split': [120, 150]\n",
    "}\n",
    "\n",
    "dt_model = tree.DecisionTreeClassifier(random_state=1)\n",
    "\n",
    "grid_search_dt = GridSearchCV(estimator = dt_model, param_grid = param_grid, cv = 3)\n",
    "grid_search_dt.fit(X_train, Y_train)\n",
    "grid_search_dt.best_params_"
   ]
  },
  {
   "cell_type": "code",
   "execution_count": 123,
   "metadata": {},
   "outputs": [
    {
     "data": {
      "text/plain": [
       "{'max_depth': 5, 'min_samples_leaf': 30, 'min_samples_split': 120}"
      ]
     },
     "execution_count": 123,
     "metadata": {},
     "output_type": "execute_result"
    }
   ],
   "source": [
    "param_grid = {\n",
    "    'max_depth': [5, 6],\n",
    "    'min_samples_leaf': [30, 40],\n",
    "    'min_samples_split': [90, 120]\n",
    "}\n",
    "\n",
    "dt_model = tree.DecisionTreeClassifier(random_state=1)\n",
    "\n",
    "grid_search_dt = GridSearchCV(estimator = dt_model, param_grid = param_grid, cv = 3)\n",
    "grid_search_dt.fit(X_train, Y_train)\n",
    "grid_search_dt.best_params_"
   ]
  },
  {
   "cell_type": "code",
   "execution_count": 124,
   "metadata": {},
   "outputs": [
    {
     "data": {
      "text/plain": [
       "{'max_depth': 5, 'min_samples_leaf': 20, 'min_samples_split': 90}"
      ]
     },
     "execution_count": 124,
     "metadata": {},
     "output_type": "execute_result"
    }
   ],
   "source": [
    "param_grid = {\n",
    "    'max_depth': [4, 5],\n",
    "    'min_samples_leaf': [20, 30],\n",
    "    'min_samples_split': [60, 90]\n",
    "}\n",
    "\n",
    "dt_model = tree.DecisionTreeClassifier(random_state=1)\n",
    "\n",
    "grid_search_dt = GridSearchCV(estimator = dt_model, param_grid = param_grid, cv = 3)\n",
    "grid_search_dt.fit(X_train, Y_train)\n",
    "grid_search_dt.best_params_"
   ]
  },
  {
   "cell_type": "code",
   "execution_count": 125,
   "metadata": {},
   "outputs": [
    {
     "data": {
      "text/plain": [
       "{'max_depth': 5, 'min_samples_leaf': 30, 'min_samples_split': 120}"
      ]
     },
     "execution_count": 125,
     "metadata": {},
     "output_type": "execute_result"
    }
   ],
   "source": [
    "param_grid = {\n",
    "    'max_depth': [5,7],\n",
    "    'min_samples_leaf': [20, 30,40,50],\n",
    "    'min_samples_split': [60, 90,120,150]\n",
    "}\n",
    "\n",
    "dt_model = tree.DecisionTreeClassifier(random_state=1)\n",
    "\n",
    "grid_search_dt = GridSearchCV(estimator = dt_model, param_grid = param_grid, cv = 3)\n",
    "grid_search_dt.fit(X_train, Y_train)\n",
    "grid_search_dt.best_params_"
   ]
  },
  {
   "cell_type": "markdown",
   "metadata": {},
   "source": [
    "# perdiction with best estimator"
   ]
  },
  {
   "cell_type": "code",
   "execution_count": 126,
   "metadata": {},
   "outputs": [],
   "source": [
    "best_grid_dt = grid_search_dt.best_estimator_"
   ]
  },
  {
   "cell_type": "code",
   "execution_count": 127,
   "metadata": {},
   "outputs": [],
   "source": [
    "ytrain_predict_dt = best_grid_dt.predict(X_train)\n",
    "ytest_predict_dt = best_grid_dt.predict(X_test)"
   ]
  },
  {
   "cell_type": "markdown",
   "metadata": {},
   "source": [
    "# confusin matrix for train data"
   ]
  },
  {
   "cell_type": "code",
   "execution_count": 128,
   "metadata": {},
   "outputs": [
    {
     "data": {
      "text/plain": [
       "array([[1307,  164],\n",
       "       [ 262,  367]], dtype=int64)"
      ]
     },
     "execution_count": 128,
     "metadata": {},
     "output_type": "execute_result"
    }
   ],
   "source": [
    "from sklearn.metrics import confusion_matrix,classification_report\n",
    "confusion_matrix(Y_train,ytrain_predict_dt)"
   ]
  },
  {
   "cell_type": "markdown",
   "metadata": {},
   "source": [
    "# classification report for train data"
   ]
  },
  {
   "cell_type": "code",
   "execution_count": 129,
   "metadata": {},
   "outputs": [
    {
     "name": "stdout",
     "output_type": "stream",
     "text": [
      "              precision    recall  f1-score   support\n",
      "\n",
      "           0       0.83      0.89      0.86      1471\n",
      "           1       0.69      0.58      0.63       629\n",
      "\n",
      "    accuracy                           0.80      2100\n",
      "   macro avg       0.76      0.74      0.75      2100\n",
      "weighted avg       0.79      0.80      0.79      2100\n",
      "\n"
     ]
    }
   ],
   "source": [
    "print(classification_report(Y_train,ytrain_predict_dt))"
   ]
  },
  {
   "cell_type": "markdown",
   "metadata": {},
   "source": [
    "# confusion matrix for test data"
   ]
  },
  {
   "cell_type": "code",
   "execution_count": 130,
   "metadata": {},
   "outputs": [
    {
     "data": {
      "text/plain": [
       "array([[549,  56],\n",
       "       [155, 140]], dtype=int64)"
      ]
     },
     "execution_count": 130,
     "metadata": {},
     "output_type": "execute_result"
    }
   ],
   "source": [
    "confusion_matrix(Y_test,ytest_predict_dt)"
   ]
  },
  {
   "cell_type": "markdown",
   "metadata": {},
   "source": [
    "# classification report for test data"
   ]
  },
  {
   "cell_type": "code",
   "execution_count": 131,
   "metadata": {},
   "outputs": [
    {
     "name": "stdout",
     "output_type": "stream",
     "text": [
      "              precision    recall  f1-score   support\n",
      "\n",
      "           0       0.78      0.91      0.84       605\n",
      "           1       0.71      0.47      0.57       295\n",
      "\n",
      "    accuracy                           0.77       900\n",
      "   macro avg       0.75      0.69      0.70       900\n",
      "weighted avg       0.76      0.77      0.75       900\n",
      "\n"
     ]
    }
   ],
   "source": [
    "print(classification_report(Y_test,ytest_predict_dt))"
   ]
  },
  {
   "cell_type": "markdown",
   "metadata": {},
   "source": [
    "# AUC ROC curve for train data"
   ]
  },
  {
   "cell_type": "code",
   "execution_count": 161,
   "metadata": {},
   "outputs": [
    {
     "name": "stdout",
     "output_type": "stream",
     "text": [
      "AUC: 0.837\n"
     ]
    },
    {
     "data": {
      "image/png": "[encoded data removed]",
      "text/plain": [
       "<Figure size 432x288 with 1 Axes>"
      ]
     },
     "metadata": {
      "needs_background": "light"
     },
     "output_type": "display_data"
    }
   ],
   "source": [
    "import matplotlib.pyplot as plt\n",
    "probs = best_grid_dt.predict_proba(X_train)\n",
    "# keep probabilities for the positive outcome only\n",
    "probs = probs[:, 1]\n",
    "# calculate AUC\n",
    "from sklearn.metrics import roc_auc_score\n",
    "cart_train_auc = roc_auc_score(Y_train, probs)\n",
    "auc = roc_auc_score(Y_train, probs)\n",
    "\n",
    "print('AUC: %.3f' % auc)\n",
    "# calculate roc curve\n",
    "from sklearn.metrics import roc_curve\n",
    "cart_train_fpr, cart_train_tpr, thresholds = roc_curve(Y_train, probs)\n",
    "plt.plot([0, 1], [0, 1], linestyle='--')\n",
    "# plot the roc curve for the model\n",
    "plt.plot(cart_train_fpr, cart_train_tpr, marker='.')\n",
    "# show the plot\n",
    "plt.show()"
   ]
  },
  {
   "cell_type": "markdown",
   "metadata": {},
   "source": [
    "# AUC ROC for  test data"
   ]
  },
  {
   "cell_type": "code",
   "execution_count": 162,
   "metadata": {},
   "outputs": [
    {
     "name": "stdout",
     "output_type": "stream",
     "text": [
      "AUC: 0.800\n"
     ]
    },
    {
     "data": {
      "image/png": "[encoded data removed]",
      "text/plain": [
       "<Figure size 432x288 with 1 Axes>"
      ]
     },
     "metadata": {
      "needs_background": "light"
     },
     "output_type": "display_data"
    }
   ],
   "source": [
    "# predict probabilities\n",
    "probs = best_grid_dt.predict_proba(X_test)\n",
    "# keep probabilities for the positive outcome only\n",
    "probs = probs[:, 1]\n",
    "# calculate AUC\n",
    "from sklearn.metrics import roc_auc_score\n",
    "cart_test_auc = roc_auc_score(Y_test, probs)\n",
    "auc = roc_auc_score(Y_test, probs)\n",
    "print('AUC: %.3f' % auc)\n",
    "# calculate roc curve\n",
    "from sklearn.metrics import roc_curve\n",
    "cart_test_fpr, cart_test_tpr, thresholds = roc_curve(Y_test, probs)\n",
    "plt.plot([0, 1], [0, 1], linestyle='--')\n",
    "# plot the roc curve for the model\n",
    "plt.plot(cart_test_fpr, cart_test_tpr, marker='.')\n",
    "# show the plot\n",
    "plt.show()"
   ]
  },
  {
   "cell_type": "markdown",
   "metadata": {},
   "source": [
    "# imp features"
   ]
  },
  {
   "cell_type": "code",
   "execution_count": 78,
   "metadata": {},
   "outputs": [
    {
     "name": "stdout",
     "output_type": "stream",
     "text": [
      "                   Imp\n",
      "Agency_Code   0.594092\n",
      "Sales         0.252143\n",
      "Product Name  0.074957\n",
      "Duration      0.031694\n",
      "Age           0.025030\n",
      "Commision     0.022083\n",
      "Type          0.000000\n",
      "Channel       0.000000\n",
      "Destination   0.000000\n"
     ]
    }
   ],
   "source": [
    "print (pd.DataFrame(best_grid_dt.feature_importances_, columns = [\"Imp\"], index = X_train.columns).sort_values('Imp',ascending=False))"
   ]
  },
  {
   "cell_type": "markdown",
   "metadata": {},
   "source": [
    "# Random Forest model"
   ]
  },
  {
   "cell_type": "code",
   "execution_count": 34,
   "metadata": {},
   "outputs": [],
   "source": [
    "from sklearn.ensemble import RandomForestClassifier\n",
    "rfcl = RandomForestClassifier()"
   ]
  },
  {
   "cell_type": "markdown",
   "metadata": {},
   "source": [
    "# best parameter using gridsearch"
   ]
  },
  {
   "cell_type": "code",
   "execution_count": 35,
   "metadata": {},
   "outputs": [
    {
     "data": {
      "text/plain": [
       "{'max_depth': 7,\n",
       " 'max_features': 4,\n",
       " 'min_samples_leaf': 100,\n",
       " 'min_samples_split': 150,\n",
       " 'n_estimators': 301}"
      ]
     },
     "execution_count": 35,
     "metadata": {},
     "output_type": "execute_result"
    }
   ],
   "source": [
    "param_grid = {\n",
    "    'max_depth': [7, 10],\n",
    "    'max_features': [4, 6],\n",
    "    'min_samples_leaf': [50, 100],\n",
    "    'min_samples_split': [150, 300],\n",
    "    'n_estimators': [301, 501]\n",
    "}\n",
    "\n",
    "rfcl = RandomForestClassifier(random_state=1)\n",
    "\n",
    "grid_search_rf = GridSearchCV(estimator = rfcl, param_grid = param_grid, cv = 3)\n",
    "grid_search_rf.fit(X_train, Y_train)\n",
    "grid_search_rf.best_params_"
   ]
  },
  {
   "cell_type": "code",
   "execution_count": 36,
   "metadata": {},
   "outputs": [
    {
     "data": {
      "text/plain": [
       "{'max_depth': 7,\n",
       " 'max_features': 4,\n",
       " 'min_samples_leaf': 100,\n",
       " 'min_samples_split': 150,\n",
       " 'n_estimators': 301}"
      ]
     },
     "execution_count": 36,
     "metadata": {},
     "output_type": "execute_result"
    }
   ],
   "source": [
    "from sklearn.model_selection import GridSearchCV\n",
    "\n",
    "param_grid = {\n",
    "    'max_depth': [7, 8],\n",
    "    'max_features': [4, 6],\n",
    "    'min_samples_leaf': [50, 100],\n",
    "    'min_samples_split': [150, 300],\n",
    "    'n_estimators': [301, 501]\n",
    "}\n",
    "\n",
    "rfcl = RandomForestClassifier(random_state=1)\n",
    "\n",
    "grid_search_rf = GridSearchCV(estimator = rfcl, param_grid = param_grid, cv = 3)\n",
    "grid_search_rf.fit(X_train, Y_train)\n",
    "grid_search_rf.best_params_"
   ]
  },
  {
   "cell_type": "code",
   "execution_count": 37,
   "metadata": {},
   "outputs": [
    {
     "data": {
      "text/plain": [
       "{'max_depth': 6,\n",
       " 'max_features': 4,\n",
       " 'min_samples_leaf': 100,\n",
       " 'min_samples_split': 150,\n",
       " 'n_estimators': 301}"
      ]
     },
     "execution_count": 37,
     "metadata": {},
     "output_type": "execute_result"
    }
   ],
   "source": [
    "param_grid = {\n",
    "    'max_depth': [6,7],\n",
    "    'max_features': [4, 6],\n",
    "    'min_samples_leaf': [50, 100],\n",
    "    'min_samples_split': [150, 300],\n",
    "    'n_estimators': [301, 501]\n",
    "}\n",
    "\n",
    "rfcl = RandomForestClassifier(random_state=1)\n",
    "\n",
    "grid_search_rf = GridSearchCV(estimator = rfcl, param_grid = param_grid, cv = 3)\n",
    "grid_search_rf.fit(X_train, Y_train)\n",
    "grid_search_rf.best_params_"
   ]
  },
  {
   "cell_type": "markdown",
   "metadata": {},
   "source": [
    "# Prediction using best estimator"
   ]
  },
  {
   "cell_type": "code",
   "execution_count": 38,
   "metadata": {},
   "outputs": [],
   "source": [
    "best_grid_rf = grid_search_rf.best_estimator_"
   ]
  },
  {
   "cell_type": "code",
   "execution_count": 39,
   "metadata": {},
   "outputs": [],
   "source": [
    "ytrain_predict_rf = best_grid_rf.predict(X_train)\n",
    "ytest_predict_rf = best_grid_rf.predict(X_test)"
   ]
  },
  {
   "cell_type": "markdown",
   "metadata": {},
   "source": [
    "# confusion matrix for train data"
   ]
  },
  {
   "cell_type": "code",
   "execution_count": 40,
   "metadata": {},
   "outputs": [
    {
     "data": {
      "text/plain": [
       "array([[1344,  127],\n",
       "       [ 316,  313]], dtype=int64)"
      ]
     },
     "execution_count": 40,
     "metadata": {},
     "output_type": "execute_result"
    }
   ],
   "source": [
    "confusion_matrix(Y_train,ytrain_predict_rf)"
   ]
  },
  {
   "cell_type": "markdown",
   "metadata": {},
   "source": [
    "# classification report for train data"
   ]
  },
  {
   "cell_type": "code",
   "execution_count": 41,
   "metadata": {},
   "outputs": [
    {
     "name": "stdout",
     "output_type": "stream",
     "text": [
      "              precision    recall  f1-score   support\n",
      "\n",
      "           0       0.81      0.91      0.86      1471\n",
      "           1       0.71      0.50      0.59       629\n",
      "\n",
      "    accuracy                           0.79      2100\n",
      "   macro avg       0.76      0.71      0.72      2100\n",
      "weighted avg       0.78      0.79      0.78      2100\n",
      "\n"
     ]
    }
   ],
   "source": [
    "print(classification_report(Y_train,ytrain_predict_rf))"
   ]
  },
  {
   "cell_type": "markdown",
   "metadata": {},
   "source": [
    "# confusion matrix for test data"
   ]
  },
  {
   "cell_type": "code",
   "execution_count": 42,
   "metadata": {},
   "outputs": [
    {
     "data": {
      "text/plain": [
       "array([[564,  41],\n",
       "       [177, 118]], dtype=int64)"
      ]
     },
     "execution_count": 42,
     "metadata": {},
     "output_type": "execute_result"
    }
   ],
   "source": [
    "confusion_matrix(Y_test,ytest_predict_rf)"
   ]
  },
  {
   "cell_type": "markdown",
   "metadata": {},
   "source": [
    "# classification report for test data"
   ]
  },
  {
   "cell_type": "code",
   "execution_count": 43,
   "metadata": {},
   "outputs": [
    {
     "name": "stdout",
     "output_type": "stream",
     "text": [
      "              precision    recall  f1-score   support\n",
      "\n",
      "           0       0.76      0.93      0.84       605\n",
      "           1       0.74      0.40      0.52       295\n",
      "\n",
      "    accuracy                           0.76       900\n",
      "   macro avg       0.75      0.67      0.68       900\n",
      "weighted avg       0.75      0.76      0.73       900\n",
      "\n"
     ]
    }
   ],
   "source": [
    "print(classification_report(Y_test,ytest_predict_rf))"
   ]
  },
  {
   "cell_type": "markdown",
   "metadata": {},
   "source": [
    "# ROC AUC for train data"
   ]
  },
  {
   "cell_type": "code",
   "execution_count": 163,
   "metadata": {},
   "outputs": [
    {
     "name": "stdout",
     "output_type": "stream",
     "text": [
      "AUC: 0.825\n"
     ]
    },
    {
     "data": {
      "image/png": "[encoded data removed]",
      "text/plain": [
       "<Figure size 432x288 with 1 Axes>"
      ]
     },
     "metadata": {
      "needs_background": "light"
     },
     "output_type": "display_data"
    }
   ],
   "source": [
    "import matplotlib.pyplot as plt\n",
    "probs = best_grid_rf.predict_proba(X_train)\n",
    "# keep probabilities for the positive outcome only\n",
    "probs = probs[:, 1]\n",
    "# calculate AUC\n",
    "from sklearn.metrics import roc_auc_score\n",
    "rf_train_auc=roc_auc_score(Y_train,probs)\n",
    "auc = roc_auc_score(Y_train, probs)\n",
    "print('AUC: %.3f' % auc)\n",
    "# calculate roc curve\n",
    "from sklearn.metrics import roc_curve\n",
    "rf_train_fpr, rf_train_tpr, thresholds = roc_curve(Y_train, probs)\n",
    "plt.plot([0, 1], [0, 1], linestyle='--')\n",
    "# plot the roc curve for the model\n",
    "plt.plot(rf_train_fpr, rf_train_tpr, marker='.')\n",
    "# show the plot\n",
    "plt.show()"
   ]
  },
  {
   "cell_type": "markdown",
   "metadata": {},
   "source": [
    "# ROC AUC for test data"
   ]
  },
  {
   "cell_type": "code",
   "execution_count": 164,
   "metadata": {},
   "outputs": [
    {
     "name": "stdout",
     "output_type": "stream",
     "text": [
      "AUC: 0.809\n"
     ]
    },
    {
     "data": {
      "image/png": "[encoded data removed]",
      "text/plain": [
       "<Figure size 432x288 with 1 Axes>"
      ]
     },
     "metadata": {
      "needs_background": "light"
     },
     "output_type": "display_data"
    }
   ],
   "source": [
    "# AUC and ROC for the test data\n",
    "\n",
    "\n",
    "# predict probabilities\n",
    "probs = best_grid_rf.predict_proba(X_test)\n",
    "# keep probabilities for the positive outcome only\n",
    "probs = probs[:, 1]\n",
    "# calculate AUC\n",
    "from sklearn.metrics import roc_auc_score\n",
    "rf_test_auc=roc_auc_score(Y_test,probs)\n",
    "auc = roc_auc_score(Y_test, probs)\n",
    "print('AUC: %.3f' % auc)\n",
    "# calculate roc curve\n",
    "from sklearn.metrics import roc_curve\n",
    "rf_test_fpr, rf_test_tpr, thresholds = roc_curve(Y_test, probs)\n",
    "plt.plot([0, 1], [0, 1], linestyle='--')\n",
    "# plot the roc curve for the model\n",
    "plt.plot(rf_test_fpr, rf_test_tpr, marker='.')\n",
    "# show the plot\n",
    "plt.show()"
   ]
  },
  {
   "cell_type": "code",
   "execution_count": 79,
   "metadata": {},
   "outputs": [
    {
     "name": "stdout",
     "output_type": "stream",
     "text": [
      "                   Imp\n",
      "Agency_Code   0.380986\n",
      "Product Name  0.250265\n",
      "Sales         0.136766\n",
      "Commision     0.113308\n",
      "Type          0.072618\n",
      "Duration      0.031680\n",
      "Age           0.011634\n",
      "Destination   0.002744\n",
      "Channel       0.000000\n"
     ]
    }
   ],
   "source": [
    "print (pd.DataFrame(best_grid_rf.feature_importances_, columns = [\"Imp\"], index = X_train.columns).sort_values('Imp',ascending=False))"
   ]
  },
  {
   "cell_type": "markdown",
   "metadata": {},
   "source": [
    "# ANN"
   ]
  },
  {
   "cell_type": "markdown",
   "metadata": {},
   "source": [
    "# scaling train and test data before applying model"
   ]
  },
  {
   "cell_type": "code",
   "execution_count": 48,
   "metadata": {},
   "outputs": [],
   "source": [
    "from sklearn.preprocessing import StandardScaler"
   ]
  },
  {
   "cell_type": "code",
   "execution_count": 49,
   "metadata": {},
   "outputs": [],
   "source": [
    "ss = StandardScaler()"
   ]
  },
  {
   "cell_type": "code",
   "execution_count": 50,
   "metadata": {},
   "outputs": [
    {
     "data": {
      "text/html": [
       "<div>\n",
       "<style scoped>\n",
       "    .dataframe tbody tr th:only-of-type {\n",
       "        vertical-align: middle;\n",
       "    }\n",
       "\n",
       "    .dataframe tbody tr th {\n",
       "        vertical-align: top;\n",
       "    }\n",
       "\n",
       "    .dataframe thead th {\n",
       "        text-align: right;\n",
       "    }\n",
       "</style>\n",
       "<table border=\"1\" class=\"dataframe\">\n",
       "  <thead>\n",
       "    <tr style=\"text-align: right;\">\n",
       "      <th></th>\n",
       "      <th>Age</th>\n",
       "      <th>Agency_Code</th>\n",
       "      <th>Type</th>\n",
       "      <th>Commision</th>\n",
       "      <th>Channel</th>\n",
       "      <th>Duration</th>\n",
       "      <th>Sales</th>\n",
       "      <th>Product Name</th>\n",
       "      <th>Destination</th>\n",
       "    </tr>\n",
       "  </thead>\n",
       "  <tbody>\n",
       "    <tr>\n",
       "      <th>0</th>\n",
       "      <td>-0.191925</td>\n",
       "      <td>0.728159</td>\n",
       "      <td>0.805203</td>\n",
       "      <td>-0.580954</td>\n",
       "      <td>0.120386</td>\n",
       "      <td>-0.287441</td>\n",
       "      <td>-0.573066</td>\n",
       "      <td>0.246424</td>\n",
       "      <td>-0.439260</td>\n",
       "    </tr>\n",
       "    <tr>\n",
       "      <th>1</th>\n",
       "      <td>-0.191925</td>\n",
       "      <td>0.728159</td>\n",
       "      <td>0.805203</td>\n",
       "      <td>-0.580954</td>\n",
       "      <td>0.120386</td>\n",
       "      <td>0.461466</td>\n",
       "      <td>-0.269106</td>\n",
       "      <td>0.246424</td>\n",
       "      <td>1.278517</td>\n",
       "    </tr>\n",
       "    <tr>\n",
       "      <th>2</th>\n",
       "      <td>-0.971882</td>\n",
       "      <td>-1.285184</td>\n",
       "      <td>-1.241923</td>\n",
       "      <td>1.216146</td>\n",
       "      <td>0.120386</td>\n",
       "      <td>2.027988</td>\n",
       "      <td>1.746015</td>\n",
       "      <td>1.833819</td>\n",
       "      <td>-0.439260</td>\n",
       "    </tr>\n",
       "    <tr>\n",
       "      <th>3</th>\n",
       "      <td>-0.971882</td>\n",
       "      <td>-1.285184</td>\n",
       "      <td>-1.241923</td>\n",
       "      <td>-0.116754</td>\n",
       "      <td>0.120386</td>\n",
       "      <td>-0.294312</td>\n",
       "      <td>-0.179299</td>\n",
       "      <td>1.833819</td>\n",
       "      <td>-0.439260</td>\n",
       "    </tr>\n",
       "    <tr>\n",
       "      <th>4</th>\n",
       "      <td>0.978010</td>\n",
       "      <td>-0.278513</td>\n",
       "      <td>0.805203</td>\n",
       "      <td>0.131610</td>\n",
       "      <td>0.120386</td>\n",
       "      <td>-0.129415</td>\n",
       "      <td>-0.172391</td>\n",
       "      <td>1.040121</td>\n",
       "      <td>-0.439260</td>\n",
       "    </tr>\n",
       "  </tbody>\n",
       "</table>\n",
       "</div>"
      ],
      "text/plain": [
       "        Age  Agency_Code      Type  Commision   Channel  Duration     Sales  \\\n",
       "0 -0.191925     0.728159  0.805203  -0.580954  0.120386 -0.287441 -0.573066   \n",
       "1 -0.191925     0.728159  0.805203  -0.580954  0.120386  0.461466 -0.269106   \n",
       "2 -0.971882    -1.285184 -1.241923   1.216146  0.120386  2.027988  1.746015   \n",
       "3 -0.971882    -1.285184 -1.241923  -0.116754  0.120386 -0.294312 -0.179299   \n",
       "4  0.978010    -0.278513  0.805203   0.131610  0.120386 -0.129415 -0.172391   \n",
       "\n",
       "   Product Name  Destination  \n",
       "0      0.246424    -0.439260  \n",
       "1      0.246424     1.278517  \n",
       "2      1.833819    -0.439260  \n",
       "3      1.833819    -0.439260  \n",
       "4      1.040121    -0.439260  "
      ]
     },
     "execution_count": 50,
     "metadata": {},
     "output_type": "execute_result"
    }
   ],
   "source": [
    "X_train_scaled = pd.DataFrame(ss.fit_transform(X_train),columns=X_train.columns)\n",
    "X_train_scaled.head()"
   ]
  },
  {
   "cell_type": "code",
   "execution_count": 51,
   "metadata": {},
   "outputs": [
    {
     "data": {
      "text/html": [
       "<div>\n",
       "<style scoped>\n",
       "    .dataframe tbody tr th:only-of-type {\n",
       "        vertical-align: middle;\n",
       "    }\n",
       "\n",
       "    .dataframe tbody tr th {\n",
       "        vertical-align: top;\n",
       "    }\n",
       "\n",
       "    .dataframe thead th {\n",
       "        text-align: right;\n",
       "    }\n",
       "</style>\n",
       "<table border=\"1\" class=\"dataframe\">\n",
       "  <thead>\n",
       "    <tr style=\"text-align: right;\">\n",
       "      <th></th>\n",
       "      <th>Age</th>\n",
       "      <th>Agency_Code</th>\n",
       "      <th>Type</th>\n",
       "      <th>Commision</th>\n",
       "      <th>Channel</th>\n",
       "      <th>Duration</th>\n",
       "      <th>Sales</th>\n",
       "      <th>Product Name</th>\n",
       "      <th>Destination</th>\n",
       "    </tr>\n",
       "  </thead>\n",
       "  <tbody>\n",
       "    <tr>\n",
       "      <th>0</th>\n",
       "      <td>-1.556849</td>\n",
       "      <td>-0.278513</td>\n",
       "      <td>0.805203</td>\n",
       "      <td>0.509705</td>\n",
       "      <td>0.120386</td>\n",
       "      <td>-0.301182</td>\n",
       "      <td>0.186835</td>\n",
       "      <td>-1.340970</td>\n",
       "      <td>2.996294</td>\n",
       "    </tr>\n",
       "    <tr>\n",
       "      <th>1</th>\n",
       "      <td>1.660472</td>\n",
       "      <td>-1.285184</td>\n",
       "      <td>-1.241923</td>\n",
       "      <td>-0.327232</td>\n",
       "      <td>0.120386</td>\n",
       "      <td>-0.328665</td>\n",
       "      <td>-0.483260</td>\n",
       "      <td>-1.340970</td>\n",
       "      <td>-0.439260</td>\n",
       "    </tr>\n",
       "    <tr>\n",
       "      <th>2</th>\n",
       "      <td>-0.874387</td>\n",
       "      <td>-1.285184</td>\n",
       "      <td>-1.241923</td>\n",
       "      <td>-0.427879</td>\n",
       "      <td>0.120386</td>\n",
       "      <td>-0.266829</td>\n",
       "      <td>-0.628332</td>\n",
       "      <td>-1.340970</td>\n",
       "      <td>-0.439260</td>\n",
       "    </tr>\n",
       "    <tr>\n",
       "      <th>3</th>\n",
       "      <td>-1.069376</td>\n",
       "      <td>-1.285184</td>\n",
       "      <td>-1.241923</td>\n",
       "      <td>0.026754</td>\n",
       "      <td>0.120386</td>\n",
       "      <td>-0.218734</td>\n",
       "      <td>0.027947</td>\n",
       "      <td>1.833819</td>\n",
       "      <td>-0.439260</td>\n",
       "    </tr>\n",
       "    <tr>\n",
       "      <th>4</th>\n",
       "      <td>-0.191925</td>\n",
       "      <td>0.728159</td>\n",
       "      <td>0.805203</td>\n",
       "      <td>-0.580954</td>\n",
       "      <td>0.120386</td>\n",
       "      <td>-0.253087</td>\n",
       "      <td>-0.476352</td>\n",
       "      <td>-0.547273</td>\n",
       "      <td>-0.439260</td>\n",
       "    </tr>\n",
       "  </tbody>\n",
       "</table>\n",
       "</div>"
      ],
      "text/plain": [
       "        Age  Agency_Code      Type  Commision   Channel  Duration     Sales  \\\n",
       "0 -1.556849    -0.278513  0.805203   0.509705  0.120386 -0.301182  0.186835   \n",
       "1  1.660472    -1.285184 -1.241923  -0.327232  0.120386 -0.328665 -0.483260   \n",
       "2 -0.874387    -1.285184 -1.241923  -0.427879  0.120386 -0.266829 -0.628332   \n",
       "3 -1.069376    -1.285184 -1.241923   0.026754  0.120386 -0.218734  0.027947   \n",
       "4 -0.191925     0.728159  0.805203  -0.580954  0.120386 -0.253087 -0.476352   \n",
       "\n",
       "   Product Name  Destination  \n",
       "0     -1.340970     2.996294  \n",
       "1     -1.340970    -0.439260  \n",
       "2     -1.340970    -0.439260  \n",
       "3      1.833819    -0.439260  \n",
       "4     -0.547273    -0.439260  "
      ]
     },
     "execution_count": 51,
     "metadata": {},
     "output_type": "execute_result"
    }
   ],
   "source": [
    "X_test_scaled = pd.DataFrame(ss.transform(X_test),columns=X_test.columns)\n",
    "X_test_scaled.head()"
   ]
  },
  {
   "cell_type": "markdown",
   "metadata": {},
   "source": [
    "# import library for ANN"
   ]
  },
  {
   "cell_type": "code",
   "execution_count": 52,
   "metadata": {},
   "outputs": [],
   "source": [
    "from sklearn.neural_network import MLPClassifier"
   ]
  },
  {
   "cell_type": "markdown",
   "metadata": {},
   "source": [
    "# grid search for best estimator"
   ]
  },
  {
   "cell_type": "code",
   "execution_count": 53,
   "metadata": {},
   "outputs": [],
   "source": [
    "param_grid = {\n",
    "    'hidden_layer_sizes': [10,40,70,100],\n",
    "    'activation': ['logistic', 'tanh', 'relu'],\n",
    "    'learning_rate': ['adaptive','constant'],\n",
    "    'tol': [0.001,0.0001]\n",
    "}"
   ]
  },
  {
   "cell_type": "code",
   "execution_count": 54,
   "metadata": {},
   "outputs": [],
   "source": [
    "nncl = MLPClassifier(random_state=1,max_iter=5000)"
   ]
  },
  {
   "cell_type": "code",
   "execution_count": 55,
   "metadata": {},
   "outputs": [],
   "source": [
    "grid_search_ann = GridSearchCV(estimator = nncl, param_grid = param_grid, cv = 3,n_jobs=-1)"
   ]
  },
  {
   "cell_type": "code",
   "execution_count": 56,
   "metadata": {},
   "outputs": [
    {
     "data": {
      "text/plain": [
       "GridSearchCV(cv=3, error_score=nan,\n",
       "             estimator=MLPClassifier(activation='relu', alpha=0.0001,\n",
       "                                     batch_size='auto', beta_1=0.9,\n",
       "                                     beta_2=0.999, early_stopping=False,\n",
       "                                     epsilon=1e-08, hidden_layer_sizes=(100,),\n",
       "                                     learning_rate='constant',\n",
       "                                     learning_rate_init=0.001, max_fun=15000,\n",
       "                                     max_iter=5000, momentum=0.9,\n",
       "                                     n_iter_no_change=10,\n",
       "                                     nesterovs_momentum=True, power_t=0.5,\n",
       "                                     random_stat...fle=True,\n",
       "                                     solver='adam', tol=0.0001,\n",
       "                                     validation_fraction=0.1, verbose=False,\n",
       "                                     warm_start=False),\n",
       "             iid='deprecated', n_jobs=-1,\n",
       "             param_grid={'activation': ['logistic', 'tanh', 'relu'],\n",
       "                         'hidden_layer_sizes': [10, 40, 70, 100],\n",
       "                         'learning_rate': ['adaptive', 'constant'],\n",
       "                         'tol': [0.001, 0.0001]},\n",
       "             pre_dispatch='2*n_jobs', refit=True, return_train_score=False,\n",
       "             scoring=None, verbose=0)"
      ]
     },
     "execution_count": 56,
     "metadata": {},
     "output_type": "execute_result"
    }
   ],
   "source": [
    "grid_search_ann.fit(X_train_scaled, Y_train)"
   ]
  },
  {
   "cell_type": "code",
   "execution_count": 57,
   "metadata": {},
   "outputs": [
    {
     "data": {
      "text/plain": [
       "{'activation': 'relu',\n",
       " 'hidden_layer_sizes': 40,\n",
       " 'learning_rate': 'adaptive',\n",
       " 'tol': 0.0001}"
      ]
     },
     "execution_count": 57,
     "metadata": {},
     "output_type": "execute_result"
    }
   ],
   "source": [
    "grid_search_ann.best_params_"
   ]
  },
  {
   "cell_type": "markdown",
   "metadata": {},
   "source": [
    "# prediction using best estimator"
   ]
  },
  {
   "cell_type": "code",
   "execution_count": 58,
   "metadata": {},
   "outputs": [],
   "source": [
    "best_model_ann = grid_search_ann.best_estimator_"
   ]
  },
  {
   "cell_type": "code",
   "execution_count": 59,
   "metadata": {},
   "outputs": [],
   "source": [
    "y_train_predict_ann = best_model_ann.predict(X_train_scaled)\n",
    "y_test_predict_ann = best_model_ann.predict(X_test_scaled)"
   ]
  },
  {
   "cell_type": "markdown",
   "metadata": {},
   "source": [
    "# confusion matrix for train data"
   ]
  },
  {
   "cell_type": "code",
   "execution_count": 60,
   "metadata": {},
   "outputs": [
    {
     "name": "stdout",
     "output_type": "stream",
     "text": [
      "[[1326  145]\n",
      " [ 264  365]]\n"
     ]
    }
   ],
   "source": [
    "from sklearn import metrics\n",
    "print(metrics.confusion_matrix(Y_train,y_train_predict_ann))"
   ]
  },
  {
   "cell_type": "markdown",
   "metadata": {},
   "source": [
    "# classification report for train data"
   ]
  },
  {
   "cell_type": "code",
   "execution_count": 61,
   "metadata": {},
   "outputs": [
    {
     "name": "stdout",
     "output_type": "stream",
     "text": [
      "              precision    recall  f1-score   support\n",
      "\n",
      "           0       0.83      0.90      0.87      1471\n",
      "           1       0.72      0.58      0.64       629\n",
      "\n",
      "    accuracy                           0.81      2100\n",
      "   macro avg       0.77      0.74      0.75      2100\n",
      "weighted avg       0.80      0.81      0.80      2100\n",
      "\n"
     ]
    }
   ],
   "source": [
    "print(metrics.classification_report(Y_train,y_train_predict_ann))"
   ]
  },
  {
   "cell_type": "markdown",
   "metadata": {},
   "source": [
    "# confusion matrix for test data"
   ]
  },
  {
   "cell_type": "code",
   "execution_count": 62,
   "metadata": {},
   "outputs": [
    {
     "name": "stdout",
     "output_type": "stream",
     "text": [
      "[[554  51]\n",
      " [159 136]]\n"
     ]
    }
   ],
   "source": [
    "print(metrics.confusion_matrix(Y_test,y_test_predict_ann))"
   ]
  },
  {
   "cell_type": "markdown",
   "metadata": {},
   "source": [
    "# classification report for test data"
   ]
  },
  {
   "cell_type": "code",
   "execution_count": 63,
   "metadata": {},
   "outputs": [
    {
     "name": "stdout",
     "output_type": "stream",
     "text": [
      "              precision    recall  f1-score   support\n",
      "\n",
      "           0       0.78      0.92      0.84       605\n",
      "           1       0.73      0.46      0.56       295\n",
      "\n",
      "    accuracy                           0.77       900\n",
      "   macro avg       0.75      0.69      0.70       900\n",
      "weighted avg       0.76      0.77      0.75       900\n",
      "\n"
     ]
    }
   ],
   "source": [
    "print(metrics.classification_report(Y_test,y_test_predict_ann))"
   ]
  },
  {
   "cell_type": "markdown",
   "metadata": {},
   "source": [
    "# ROC AUC curve for train data"
   ]
  },
  {
   "cell_type": "code",
   "execution_count": 64,
   "metadata": {},
   "outputs": [],
   "source": [
    "y_train_predict_prob = best_model_ann.predict_proba(X_train_scaled)\n",
    "y_test_predict_prob = best_model_ann.predict_proba(X_test_scaled)"
   ]
  },
  {
   "cell_type": "code",
   "execution_count": 165,
   "metadata": {},
   "outputs": [
    {
     "name": "stdout",
     "output_type": "stream",
     "text": [
      "AUC: 0.851\n"
     ]
    },
    {
     "data": {
      "image/png": "[encoded data removed]",
      "text/plain": [
       "<Figure size 432x288 with 1 Axes>"
      ]
     },
     "metadata": {
      "needs_background": "light"
     },
     "output_type": "display_data"
    }
   ],
   "source": [
    "nn_train_auc=roc_auc_score(Y_train,y_train_predict_prob[:, 1])\n",
    "auc = metrics.roc_auc_score(Y_train,y_train_predict_prob[:, 1])#keeping only the probabilities for the desired class outcome\n",
    "print('AUC: %.3f' % auc)\n",
    "# # calculate roc curve\n",
    "# from sklearn.metrics import roc_curve\n",
    "nn_train_fpr, nn_train_tpr, thresholds = metrics.roc_curve(Y_train,y_train_predict_prob[:, 1])#keeping only the probabilities for the desired \n",
    "#class outcome\n",
    "plt.plot([0, 1], [0, 1], linestyle='--')\n",
    "# plot the roc curve for the model\n",
    "plt.plot(nn_train_fpr, nn_train_tpr, marker='.')\n",
    "# show the plot\n",
    "plt.show()"
   ]
  },
  {
   "cell_type": "markdown",
   "metadata": {},
   "source": [
    "# ROC AUC curve for test data"
   ]
  },
  {
   "cell_type": "code",
   "execution_count": 166,
   "metadata": {},
   "outputs": [
    {
     "name": "stdout",
     "output_type": "stream",
     "text": [
      "AUC: 0.813\n"
     ]
    },
    {
     "data": {
      "image/png": "[encoded data removed]",
      "text/plain": [
       "<Figure size 432x288 with 1 Axes>"
      ]
     },
     "metadata": {
      "needs_background": "light"
     },
     "output_type": "display_data"
    }
   ],
   "source": [
    "nn_test_auc=roc_auc_score(Y_test,y_test_predict_prob[:, 1])\n",
    "auc = metrics.roc_auc_score(Y_test,y_test_predict_prob[:, 1])#keeping only the probabilities for the desired class outcome\n",
    "print('AUC: %.3f' % auc)\n",
    "# # calculate roc curve\n",
    "# from sklearn.metrics import roc_curve\n",
    "nn_test_fpr, nn_test_tpr, thresholds = metrics.roc_curve(Y_test,y_test_predict_prob[:, 1])#keeping only the probabilities for the desired \n",
    "#class outcome\n",
    "plt.plot([0, 1], [0, 1], linestyle='--')\n",
    "# plot the roc curve for the model\n",
    "plt.plot(nn_test_fpr, nn_test_tpr, marker='.')\n",
    "# show the plot\n",
    "plt.show()"
   ]
  },
  {
   "cell_type": "markdown",
   "metadata": {},
   "source": [
    "# checking if probability cut-off would improve accuracy and ultimately if we could improve recall"
   ]
  },
  {
   "cell_type": "code",
   "execution_count": 160,
   "metadata": {},
   "outputs": [
    {
     "name": "stdout",
     "output_type": "stream",
     "text": [
      "0.1 0.560952380952381\n",
      "0.2 0.7214285714285714\n",
      "0.3 0.7780952380952381\n",
      "0.4 0.7942857142857143\n",
      "0.5 0.8052380952380952\n",
      "0.6 0.7933333333333333\n",
      "0.7 0.7704761904761904\n",
      "0.8 0.7380952380952381\n",
      "0.9 0.7019047619047619\n"
     ]
    }
   ],
   "source": [
    "for j in np.arange(0.1,1,0.1):\n",
    "    custom_prob = j #defining the cut-off value of our choice\n",
    "    custom_cutoff_train=[]#defining an empty list\n",
    "    for i in range(0,len(y_train_predict_prob[:,1])):#defining a loop\n",
    "        if y_train_predict_prob[:,1][i] > custom_prob:#issuing a condition for our probability values to be \n",
    "            #greater than the custom cutoff value\n",
    "            a=1#if the probability values are greater than the custom cutoff then the value should be 1\n",
    "        else:\n",
    "            a=0#if the probability values are less than the custom cutoff then the value should be 0\n",
    "        custom_cutoff_train.append(a)#adding either 1 or 0 based on the condition to the end of the list\n",
    "    #defined by us\n",
    "    print(round(j,3),metrics.accuracy_score(Y_train,custom_cutoff_train))"
   ]
  },
  {
   "cell_type": "markdown",
   "metadata": {},
   "source": [
    "# accuracy is best at 0.5 so we cannot change it from default 0.5"
   ]
  },
  {
   "cell_type": "markdown",
   "metadata": {},
   "source": [
    "# creating comparison report of all models"
   ]
  },
  {
   "cell_type": "code",
   "execution_count": 132,
   "metadata": {},
   "outputs": [
    {
     "data": {
      "text/plain": [
       "0.7971428571428572"
      ]
     },
     "execution_count": 132,
     "metadata": {},
     "output_type": "execute_result"
    }
   ],
   "source": [
    "cart_train_acc=best_grid_dt.score(X_train,Y_train) \n",
    "cart_train_acc"
   ]
  },
  {
   "cell_type": "code",
   "execution_count": 133,
   "metadata": {},
   "outputs": [
    {
     "name": "stdout",
     "output_type": "stream",
     "text": [
      "cart_train_precision  0.69\n",
      "cart_train_recall  0.58\n",
      "cart_train_f1  0.63\n"
     ]
    }
   ],
   "source": [
    "cart_metrics=classification_report(Y_train, ytrain_predict_dt,output_dict=True)\n",
    "df=pd.DataFrame(cart_metrics).transpose()\n",
    "cart_train_f1=round(df.loc[\"1\"][2],2)\n",
    "cart_train_recall=round(df.loc[\"1\"][1],2)\n",
    "cart_train_precision=round(df.loc[\"1\"][0],2)\n",
    "print ('cart_train_precision ',cart_train_precision)\n",
    "print ('cart_train_recall ',cart_train_recall)\n",
    "print ('cart_train_f1 ',cart_train_f1)"
   ]
  },
  {
   "cell_type": "code",
   "execution_count": 135,
   "metadata": {},
   "outputs": [
    {
     "data": {
      "text/plain": [
       "0.7655555555555555"
      ]
     },
     "execution_count": 135,
     "metadata": {},
     "output_type": "execute_result"
    }
   ],
   "source": [
    "cart_test_acc=best_grid_dt.score(X_test,Y_test)\n",
    "cart_test_acc"
   ]
  },
  {
   "cell_type": "code",
   "execution_count": 136,
   "metadata": {},
   "outputs": [
    {
     "name": "stdout",
     "output_type": "stream",
     "text": [
      "cart_test_precision  0.71\n",
      "cart_test_recall  0.47\n",
      "cart_test_f1  0.57\n"
     ]
    }
   ],
   "source": [
    "cart_metrics=classification_report(Y_test, ytest_predict_dt,output_dict=True)\n",
    "df=pd.DataFrame(cart_metrics).transpose()\n",
    "cart_test_precision=round(df.loc[\"1\"][0],2)\n",
    "cart_test_recall=round(df.loc[\"1\"][1],2)\n",
    "cart_test_f1=round(df.loc[\"1\"][2],2)\n",
    "print ('cart_test_precision ',cart_test_precision)\n",
    "print ('cart_test_recall ',cart_test_recall)\n",
    "print ('cart_test_f1 ',cart_test_f1)"
   ]
  },
  {
   "cell_type": "code",
   "execution_count": 140,
   "metadata": {},
   "outputs": [
    {
     "data": {
      "text/plain": [
       "0.789047619047619"
      ]
     },
     "execution_count": 140,
     "metadata": {},
     "output_type": "execute_result"
    }
   ],
   "source": [
    "rf_train_acc=best_grid_rf.score(X_train,Y_train) \n",
    "rf_train_acc"
   ]
  },
  {
   "cell_type": "code",
   "execution_count": 141,
   "metadata": {},
   "outputs": [
    {
     "name": "stdout",
     "output_type": "stream",
     "text": [
      "rf_train_precision  0.71\n",
      "rf_train_recall  0.5\n",
      "rf_train_f1  0.59\n"
     ]
    }
   ],
   "source": [
    "rf_metrics=classification_report(Y_train, ytrain_predict_rf,output_dict=True)\n",
    "df=pd.DataFrame(rf_metrics).transpose()\n",
    "rf_train_precision=round(df.loc[\"1\"][0],2)\n",
    "rf_train_recall=round(df.loc[\"1\"][1],2)\n",
    "rf_train_f1=round(df.loc[\"1\"][2],2)\n",
    "print ('rf_train_precision ',rf_train_precision)\n",
    "print ('rf_train_recall ',rf_train_recall)\n",
    "print ('rf_train_f1 ',rf_train_f1)"
   ]
  },
  {
   "cell_type": "code",
   "execution_count": 144,
   "metadata": {},
   "outputs": [
    {
     "data": {
      "text/plain": [
       "0.7577777777777778"
      ]
     },
     "execution_count": 144,
     "metadata": {},
     "output_type": "execute_result"
    }
   ],
   "source": [
    "rf_test_acc=best_grid_rf.score(X_test,Y_test)\n",
    "rf_test_acc"
   ]
  },
  {
   "cell_type": "code",
   "execution_count": 145,
   "metadata": {},
   "outputs": [
    {
     "name": "stdout",
     "output_type": "stream",
     "text": [
      "rf_test_precision  0.74\n",
      "rf_test_recall  0.4\n",
      "rf_test_f1  0.52\n"
     ]
    }
   ],
   "source": [
    "rf_metrics=classification_report(Y_test, ytest_predict_rf,output_dict=True)\n",
    "df=pd.DataFrame(rf_metrics).transpose()\n",
    "rf_test_precision=round(df.loc[\"1\"][0],2)\n",
    "rf_test_recall=round(df.loc[\"1\"][1],2)\n",
    "rf_test_f1=round(df.loc[\"1\"][2],2)\n",
    "print ('rf_test_precision ',rf_test_precision)\n",
    "print ('rf_test_recall ',rf_test_recall)\n",
    "print ('rf_test_f1 ',rf_test_f1)"
   ]
  },
  {
   "cell_type": "code",
   "execution_count": 148,
   "metadata": {},
   "outputs": [
    {
     "data": {
      "text/plain": [
       "0.8052380952380952"
      ]
     },
     "execution_count": 148,
     "metadata": {},
     "output_type": "execute_result"
    }
   ],
   "source": [
    "nn_train_acc=best_model_ann.score(X_train_scaled,Y_train) \n",
    "nn_train_acc"
   ]
  },
  {
   "cell_type": "code",
   "execution_count": 150,
   "metadata": {},
   "outputs": [
    {
     "name": "stdout",
     "output_type": "stream",
     "text": [
      "nn_train_precision  0.72\n",
      "nn_train_recall  0.58\n",
      "nn_train_f1  0.64\n"
     ]
    }
   ],
   "source": [
    "nn_metrics=classification_report(Y_train, y_train_predict_ann,output_dict=True)\n",
    "df=pd.DataFrame(nn_metrics).transpose()\n",
    "nn_train_precision=round(df.loc[\"1\"][0],2)\n",
    "nn_train_recall=round(df.loc[\"1\"][1],2)\n",
    "nn_train_f1=round(df.loc[\"1\"][2],2)\n",
    "print ('nn_train_precision ',nn_train_precision)\n",
    "print ('nn_train_recall ',nn_train_recall)\n",
    "print ('nn_train_f1 ',nn_train_f1)"
   ]
  },
  {
   "cell_type": "code",
   "execution_count": 152,
   "metadata": {},
   "outputs": [
    {
     "data": {
      "text/plain": [
       "0.7666666666666667"
      ]
     },
     "execution_count": 152,
     "metadata": {},
     "output_type": "execute_result"
    }
   ],
   "source": [
    "nn_test_acc=best_model_ann.score(X_test_scaled,Y_test)\n",
    "nn_test_acc"
   ]
  },
  {
   "cell_type": "code",
   "execution_count": 153,
   "metadata": {},
   "outputs": [
    {
     "name": "stdout",
     "output_type": "stream",
     "text": [
      "nn_test_precision  0.73\n",
      "nn_test_recall  0.46\n",
      "nn_test_f1  0.56\n"
     ]
    }
   ],
   "source": [
    "nn_metrics=classification_report(Y_test, y_test_predict_ann,output_dict=True)\n",
    "df=pd.DataFrame(nn_metrics).transpose()\n",
    "nn_test_precision=round(df.loc[\"1\"][0],2)\n",
    "nn_test_recall=round(df.loc[\"1\"][1],2)\n",
    "nn_test_f1=round(df.loc[\"1\"][2],2)\n",
    "print ('nn_test_precision ',nn_test_precision)\n",
    "print ('nn_test_recall ',nn_test_recall)\n",
    "print ('nn_test_f1 ',nn_test_f1)"
   ]
  },
  {
   "cell_type": "code",
   "execution_count": 156,
   "metadata": {},
   "outputs": [
    {
     "data": {
      "text/html": [
       "<div>\n",
       "<style scoped>\n",
       "    .dataframe tbody tr th:only-of-type {\n",
       "        vertical-align: middle;\n",
       "    }\n",
       "\n",
       "    .dataframe tbody tr th {\n",
       "        vertical-align: top;\n",
       "    }\n",
       "\n",
       "    .dataframe thead th {\n",
       "        text-align: right;\n",
       "    }\n",
       "</style>\n",
       "<table border=\"1\" class=\"dataframe\">\n",
       "  <thead>\n",
       "    <tr style=\"text-align: right;\">\n",
       "      <th></th>\n",
       "      <th>CART Train</th>\n",
       "      <th>CART Test</th>\n",
       "      <th>Random Forest Train</th>\n",
       "      <th>Random Forest Test</th>\n",
       "      <th>Neural Network Train</th>\n",
       "      <th>Neural Network Test</th>\n",
       "    </tr>\n",
       "  </thead>\n",
       "  <tbody>\n",
       "    <tr>\n",
       "      <th>Accuracy</th>\n",
       "      <td>0.80</td>\n",
       "      <td>0.77</td>\n",
       "      <td>0.79</td>\n",
       "      <td>0.76</td>\n",
       "      <td>0.81</td>\n",
       "      <td>0.77</td>\n",
       "    </tr>\n",
       "    <tr>\n",
       "      <th>AUC</th>\n",
       "      <td>0.84</td>\n",
       "      <td>0.80</td>\n",
       "      <td>0.82</td>\n",
       "      <td>0.81</td>\n",
       "      <td>0.85</td>\n",
       "      <td>0.81</td>\n",
       "    </tr>\n",
       "    <tr>\n",
       "      <th>Recall</th>\n",
       "      <td>0.58</td>\n",
       "      <td>0.47</td>\n",
       "      <td>0.50</td>\n",
       "      <td>0.40</td>\n",
       "      <td>0.58</td>\n",
       "      <td>0.46</td>\n",
       "    </tr>\n",
       "    <tr>\n",
       "      <th>Precision</th>\n",
       "      <td>0.69</td>\n",
       "      <td>0.71</td>\n",
       "      <td>0.71</td>\n",
       "      <td>0.74</td>\n",
       "      <td>0.72</td>\n",
       "      <td>0.73</td>\n",
       "    </tr>\n",
       "    <tr>\n",
       "      <th>F1 Score</th>\n",
       "      <td>0.63</td>\n",
       "      <td>0.57</td>\n",
       "      <td>0.59</td>\n",
       "      <td>0.52</td>\n",
       "      <td>0.64</td>\n",
       "      <td>0.56</td>\n",
       "    </tr>\n",
       "  </tbody>\n",
       "</table>\n",
       "</div>"
      ],
      "text/plain": [
       "           CART Train  CART Test  Random Forest Train  Random Forest Test  \\\n",
       "Accuracy         0.80       0.77                 0.79                0.76   \n",
       "AUC              0.84       0.80                 0.82                0.81   \n",
       "Recall           0.58       0.47                 0.50                0.40   \n",
       "Precision        0.69       0.71                 0.71                0.74   \n",
       "F1 Score         0.63       0.57                 0.59                0.52   \n",
       "\n",
       "           Neural Network Train  Neural Network Test  \n",
       "Accuracy                   0.81                 0.77  \n",
       "AUC                        0.85                 0.81  \n",
       "Recall                     0.58                 0.46  \n",
       "Precision                  0.72                 0.73  \n",
       "F1 Score                   0.64                 0.56  "
      ]
     },
     "execution_count": 156,
     "metadata": {},
     "output_type": "execute_result"
    }
   ],
   "source": [
    "index=['Accuracy', 'AUC', 'Recall','Precision','F1 Score']\n",
    "data = pd.DataFrame({'CART Train':[cart_train_acc,cart_train_auc,cart_train_recall,cart_train_precision,cart_train_f1],\n",
    "        'CART Test':[cart_test_acc,cart_test_auc,cart_test_recall,cart_test_precision,cart_test_f1],\n",
    "       'Random Forest Train':[rf_train_acc,rf_train_auc,rf_train_recall,rf_train_precision,rf_train_f1],\n",
    "        'Random Forest Test':[rf_test_acc,rf_test_auc,rf_test_recall,rf_test_precision,rf_test_f1],\n",
    "       'Neural Network Train':[nn_train_acc,nn_train_auc,nn_train_recall,nn_train_precision,nn_train_f1],\n",
    "        'Neural Network Test':[nn_test_acc,nn_test_auc,nn_test_recall,nn_test_precision,nn_test_f1]},index=index)\n",
    "round(data,2)"
   ]
  },
  {
   "cell_type": "markdown",
   "metadata": {},
   "source": [
    "# ROC curve of all the models together"
   ]
  },
  {
   "cell_type": "code",
   "execution_count": 167,
   "metadata": {},
   "outputs": [
    {
     "data": {
      "text/plain": [
       "<matplotlib.legend.Legend at 0x23d4fddfc08>"
      ]
     },
     "execution_count": 167,
     "metadata": {},
     "output_type": "execute_result"
    },
    {
     "data": {
      "image/png": "[encoded data removed]",
      "text/plain": [
       "<Figure size 432x288 with 1 Axes>"
      ]
     },
     "metadata": {
      "needs_background": "light"
     },
     "output_type": "display_data"
    }
   ],
   "source": [
    "plt.plot([0, 1], [0, 1], linestyle='--')\n",
    "plt.plot(cart_train_fpr, cart_train_tpr,color='red',label=\"CART\")\n",
    "plt.plot(rf_train_fpr,rf_train_tpr,color='green',label=\"RF\")\n",
    "plt.plot(nn_train_fpr,nn_train_tpr,color='black',label=\"NN\")\n",
    "plt.xlabel('False Positive Rate')\n",
    "plt.ylabel('True Positive Rate')\n",
    "plt.title('ROC')\n",
    "plt.legend(bbox_to_anchor=(0., 1.02, 1., .102), loc='lower right')\n",
    "plt.plot([0, 1], [0, 1], linestyle='--')\n",
    "plt.plot(cart_test_fpr, cart_test_tpr,color='red',label=\"CART\")\n",
    "plt.plot(rf_test_fpr,rf_test_tpr,color='green',label=\"RF\")\n",
    "plt.plot(nn_test_fpr,nn_test_tpr,color='black',label=\"NN\")\n",
    "plt.xlabel('False Positive Rate')\n",
    "plt.ylabel('True Positive Rate')\n",
    "plt.title('ROC')\n",
    "plt.legend(bbox_to_anchor=(0., 1.02, 1., .102), loc='lower right')"
   ]
  },
  {
   "cell_type": "code",
   "execution_count": null,
   "metadata": {},
   "outputs": [],
   "source": []
  }
 ],
 "metadata": {
  "kernelspec": {
   "display_name": "Python 3",
   "language": "python",
   "name": "python3"
  },
  "language_info": {
   "codemirror_mode": {
    "name": "ipython",
    "version": 3
   },
   "file_extension": ".py",
   "mimetype": "text/x-python",
   "name": "python",
   "nbconvert_exporter": "python",
   "pygments_lexer": "ipython3",
   "version": "3.7.6"
  }
 },
 "nbformat": 4,
 "nbformat_minor": 4
}
